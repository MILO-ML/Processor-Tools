{
 "cells": [
  {
   "cell_type": "code",
   "execution_count": 1,
   "metadata": {},
   "outputs": [],
   "source": [
    "import pandas as pd\n",
    "import numpy as np"
   ]
  },
  {
   "cell_type": "code",
   "execution_count": 2,
   "metadata": {},
   "outputs": [],
   "source": [
    "df = pd.read_csv('/Users/brandon/Desktop/dummy_encoder.csv')"
   ]
  },
  {
   "cell_type": "code",
   "execution_count": 149,
   "metadata": {},
   "outputs": [
    {
     "name": "stdout",
     "output_type": "stream",
     "text": [
      "[{'name': 'cat_a', 'values': ['one', 'two', 'three'], 'type': 'object', 'count': 3}, {'name': 'cat_b', 'values': ['a', 'b'], 'type': 'object', 'count': 2}, {'name': 'outcome', 'values': [True, False], 'type': 'bool', 'count': 2}]\n"
     ]
    }
   ],
   "source": [
    "\n",
    "print(invalid_columns)\n",
    "\n"
   ]
  },
  {
   "cell_type": "code",
   "execution_count": 152,
   "metadata": {},
   "outputs": [
    {
     "data": {
      "text/plain": [
       "'{\"va_a\":{\"0\":1,\"1\":2,\"2\":3,\"3\":4,\"4\":5,\"5\":6,\"6\":7,\"7\":8,\"8\":9,\"9\":10},\"va_b\":{\"0\":0.145,\"1\":0.942,\"2\":0.36,\"3\":0.678,\"4\":0.464,\"5\":0.694,\"6\":0.308,\"7\":0.978,\"8\":0.009,\"9\":0.607},\"va_c\":{\"0\":0.817,\"1\":0.759,\"2\":0.767,\"3\":0.579,\"4\":0.488,\"5\":0.587,\"6\":0.516,\"7\":0.018,\"8\":0.035,\"9\":0.996},\"(\\'cat_a_one\\',)\":{\"0\":1,\"1\":0,\"2\":0,\"3\":1,\"4\":0,\"5\":0,\"6\":1,\"7\":0,\"8\":0,\"9\":1},\"(\\'cat_a_three\\',)\":{\"0\":0,\"1\":0,\"2\":1,\"3\":0,\"4\":0,\"5\":1,\"6\":0,\"7\":0,\"8\":1,\"9\":0},\"(\\'cat_a_two\\',)\":{\"0\":0,\"1\":1,\"2\":0,\"3\":0,\"4\":1,\"5\":0,\"6\":0,\"7\":1,\"8\":0,\"9\":0},\"cat_b\":{\"0\":0,\"1\":1,\"2\":0,\"3\":1,\"4\":0,\"5\":1,\"6\":0,\"7\":1,\"8\":0,\"9\":1},\"outcome\":{\"0\":1,\"1\":0,\"2\":1,\"3\":0,\"4\":1,\"5\":0,\"6\":1,\"7\":0,\"8\":1,\"9\":0}}'"
      ]
     },
     "execution_count": 152,
     "metadata": {},
     "output_type": "execute_result"
    }
   ],
   "source": [
    "from sklearn.preprocessing import OneHotEncoder\n",
    "\n",
    "valid_data_types = ['int16', 'int32', 'int64', 'float16', 'float32', 'float64']\n",
    "\n",
    "valid = df.select_dtypes(include=valid_data_types)\n",
    "invalid = df.drop(columns=valid.columns)\n",
    "\n",
    "invalid_columns = []\n",
    "for column in invalid.columns:\n",
    "    uniq = list(invalid[column].unique())\n",
    "\n",
    "    invalid_columns.append(\n",
    "    {\n",
    "        'name': column,\n",
    "        'values': uniq,\n",
    "        'type': str(invalid[column].dtype),\n",
    "        'count': len(invalid[column].unique())\n",
    "    })\n",
    "\n",
    "column_map = []\n",
    "for col_data in invalid_columns:\n",
    "    \n",
    "    #Ensure Boolean Values are Preserved\n",
    "    if col_data['type'] == 'bool':\n",
    "        invalid[col_data['name']] = invalid[col_data['name']].astype('int')\n",
    "    \n",
    "    #Ensure Nonboolean Binary Variables are kept as a single column\n",
    "    elif col_data['count'] == 2:\n",
    "        mapping = {}\n",
    "        for index, val in enumerate(col_data['values']):\n",
    "            mapping[val] = index\n",
    "        column_map.append({\n",
    "            'column': col_data['name'],\n",
    "            'map': mapping\n",
    "        })\n",
    "        invalid[col_data['name']] = invalid[col_data['name']].map(mapping).astype('int') \n",
    "    \n",
    "    #Dummy encode\n",
    "    elif col_data['count'] > 2:\n",
    "        \n",
    "        enc = OneHotEncoder(handle_unknown='ignore')\n",
    "        \n",
    "        #Need 2D vector to do the fit\n",
    "        vector = invalid[col_data['name']].values.reshape(-1,1)\n",
    "        enc.fit(vector)\n",
    "        \n",
    "        trans = enc.transform(vector).toarray()\n",
    "        \n",
    "        temp_df = pd.DataFrame(trans, columns=enc.categories_).add_prefix(col_data['name'] + '_').astype('int')\n",
    "        \n",
    "        #Adjust original columns\n",
    "        invalid = pd.concat([temp_df,invalid], axis=1)\n",
    "        invalid = invalid.drop(col_data['name'], axis=1)\n",
    "        \n",
    "\n",
    "pd.concat([valid, invalid], axis=1).to_json()\n",
    "    \n",
    "\n",
    " \n",
    "        "
   ]
  },
  {
   "cell_type": "code",
   "execution_count": 102,
   "metadata": {},
   "outputs": [
    {
     "data": {
      "text/html": [
       "<div>\n",
       "<style scoped>\n",
       "    .dataframe tbody tr th:only-of-type {\n",
       "        vertical-align: middle;\n",
       "    }\n",
       "\n",
       "    .dataframe tbody tr th {\n",
       "        vertical-align: top;\n",
       "    }\n",
       "\n",
       "    .dataframe thead tr th {\n",
       "        text-align: left;\n",
       "    }\n",
       "</style>\n",
       "<table border=\"1\" class=\"dataframe\">\n",
       "  <thead>\n",
       "    <tr>\n",
       "      <th></th>\n",
       "      <th>test_one</th>\n",
       "      <th>test_three</th>\n",
       "      <th>test_two</th>\n",
       "    </tr>\n",
       "  </thead>\n",
       "  <tbody>\n",
       "    <tr>\n",
       "      <th>0</th>\n",
       "      <td>1.0</td>\n",
       "      <td>0.0</td>\n",
       "      <td>0.0</td>\n",
       "    </tr>\n",
       "    <tr>\n",
       "      <th>1</th>\n",
       "      <td>0.0</td>\n",
       "      <td>0.0</td>\n",
       "      <td>1.0</td>\n",
       "    </tr>\n",
       "    <tr>\n",
       "      <th>2</th>\n",
       "      <td>0.0</td>\n",
       "      <td>1.0</td>\n",
       "      <td>0.0</td>\n",
       "    </tr>\n",
       "    <tr>\n",
       "      <th>3</th>\n",
       "      <td>1.0</td>\n",
       "      <td>0.0</td>\n",
       "      <td>0.0</td>\n",
       "    </tr>\n",
       "    <tr>\n",
       "      <th>4</th>\n",
       "      <td>0.0</td>\n",
       "      <td>0.0</td>\n",
       "      <td>1.0</td>\n",
       "    </tr>\n",
       "    <tr>\n",
       "      <th>5</th>\n",
       "      <td>0.0</td>\n",
       "      <td>1.0</td>\n",
       "      <td>0.0</td>\n",
       "    </tr>\n",
       "    <tr>\n",
       "      <th>6</th>\n",
       "      <td>1.0</td>\n",
       "      <td>0.0</td>\n",
       "      <td>0.0</td>\n",
       "    </tr>\n",
       "    <tr>\n",
       "      <th>7</th>\n",
       "      <td>0.0</td>\n",
       "      <td>0.0</td>\n",
       "      <td>1.0</td>\n",
       "    </tr>\n",
       "    <tr>\n",
       "      <th>8</th>\n",
       "      <td>0.0</td>\n",
       "      <td>1.0</td>\n",
       "      <td>0.0</td>\n",
       "    </tr>\n",
       "    <tr>\n",
       "      <th>9</th>\n",
       "      <td>1.0</td>\n",
       "      <td>0.0</td>\n",
       "      <td>0.0</td>\n",
       "    </tr>\n",
       "  </tbody>\n",
       "</table>\n",
       "</div>"
      ],
      "text/plain": [
       "  test_one test_three test_two\n",
       "0      1.0        0.0      0.0\n",
       "1      0.0        0.0      1.0\n",
       "2      0.0        1.0      0.0\n",
       "3      1.0        0.0      0.0\n",
       "4      0.0        0.0      1.0\n",
       "5      0.0        1.0      0.0\n",
       "6      1.0        0.0      0.0\n",
       "7      0.0        0.0      1.0\n",
       "8      0.0        1.0      0.0\n",
       "9      1.0        0.0      0.0"
      ]
     },
     "execution_count": 102,
     "metadata": {},
     "output_type": "execute_result"
    }
   ],
   "source": [
    "\n",
    "enc.fit(invalid['cat_a'].values.reshape(-1,1))\n",
    "array = enc.transform(invalid['cat_a'].values.reshape(-1,1)).toarray()\n",
    "pd.DataFrame(array, columns=enc.categories_, ).add_prefix('test_')\n"
   ]
  },
  {
   "cell_type": "code",
   "execution_count": 11,
   "metadata": {},
   "outputs": [
    {
     "ename": "ModuleNotFoundError",
     "evalue": "No module named 'sklearn'",
     "output_type": "error",
     "traceback": [
      "\u001b[0;31m---------------------------------------------------------------------------\u001b[0m",
      "\u001b[0;31mModuleNotFoundError\u001b[0m                       Traceback (most recent call last)",
      "\u001b[1;32m/Users/brandon/local_only/milo-pp2/notebooks/encoder_test.ipynb Cell 5'\u001b[0m in \u001b[0;36m<cell line: 1>\u001b[0;34m()\u001b[0m\n\u001b[0;32m----> <a href='vscode-notebook-cell:/Users/brandon/local_only/milo-pp2/notebooks/encoder_test.ipynb#ch0000004?line=0'>1</a>\u001b[0m \u001b[39mimport\u001b[39;00m \u001b[39msklearn\u001b[39;00m\u001b[39m.\u001b[39;00m\u001b[39mpreprocessing\u001b[39;00m\n",
      "\u001b[0;31mModuleNotFoundError\u001b[0m: No module named 'sklearn'"
     ]
    }
   ],
   "source": [
    "\n",
    "enc = OneHotEncoder(handle_unknown='ignore')\n",
    "\n",
    "\n",
    "\n"
   ]
  },
  {
   "cell_type": "markdown",
   "metadata": {},
   "source": []
  },
  {
   "cell_type": "code",
   "execution_count": null,
   "metadata": {},
   "outputs": [],
   "source": []
  }
 ],
 "metadata": {
  "interpreter": {
   "hash": "3994d8f11f4f39a460efaeab9ba24b8074d5c4ad96a0bb95817cc6f2628ec683"
  },
  "kernelspec": {
   "display_name": "Python 3",
   "language": "python",
   "name": "python3"
  },
  "language_info": {
   "codemirror_mode": {
    "name": "ipython",
    "version": 3
   },
   "file_extension": ".py",
   "mimetype": "text/x-python",
   "name": "python",
   "nbconvert_exporter": "python",
   "pygments_lexer": "ipython3",
   "version": "3.8.3"
  }
 },
 "nbformat": 4,
 "nbformat_minor": 4
}
