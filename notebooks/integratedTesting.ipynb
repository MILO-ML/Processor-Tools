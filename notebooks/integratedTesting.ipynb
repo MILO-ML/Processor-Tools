{
 "cells": [
  {
   "cell_type": "code",
   "execution_count": null,
   "id": "ea68bf6b",
   "metadata": {},
   "outputs": [],
   "source": []
  },
  {
   "cell_type": "code",
   "execution_count": 1,
   "id": "12eacdc2-8a65-40ad-b96f-a98c8c4a6174",
   "metadata": {},
   "outputs": [],
   "source": [
    "import pandas as pd\n",
    "import numpy as np\n",
    "import os\n",
    "import simplejson\n",
    "import json"
   ]
  },
  {
   "cell_type": "code",
   "execution_count": 6,
   "id": "76eec8e0",
   "metadata": {},
   "outputs": [],
   "source": [
    "def load_file(path):\n",
    "    file_path = path\n",
    "    df = pd.read_csv(file_path)\n",
    "    #Automatic fixes\n",
    "    df = df.replace(r'^\\s*$', np.nan, regex=True) #replaces empty strings spacess with NaN\n",
    "    return df\n"
   ]
  },
  {
   "cell_type": "code",
   "execution_count": null,
   "id": "da6a9c47",
   "metadata": {},
   "outputs": [],
   "source": []
  },
  {
   "cell_type": "code",
   "execution_count": 3,
   "id": "1aebd92c",
   "metadata": {},
   "outputs": [
    {
     "ename": "NameError",
     "evalue": "name 'pd' is not defined",
     "output_type": "error",
     "traceback": [
      "\u001b[0;31m---------------------------------------------------------------------------\u001b[0m",
      "\u001b[0;31mNameError\u001b[0m                                 Traceback (most recent call last)",
      "Cell \u001b[0;32mIn[3], line 1\u001b[0m\n\u001b[0;32m----> 1\u001b[0m df \u001b[38;5;241m=\u001b[39m \u001b[43mload_file\u001b[49m\u001b[43m(\u001b[49m\u001b[38;5;124;43m'\u001b[39;49m\u001b[38;5;124;43m/Users/brandon/Desktop/combined_missing_data.csv\u001b[39;49m\u001b[38;5;124;43m'\u001b[39;49m\u001b[43m)\u001b[49m\n\u001b[1;32m      3\u001b[0m df\u001b[38;5;241m.\u001b[39mdrop(columns\u001b[38;5;241m=\u001b[39m[\u001b[38;5;124m'\u001b[39m\u001b[38;5;124mUnnamed:0\u001b[39m\u001b[38;5;124m'\u001b[39m, \u001b[38;5;124m'\u001b[39m\u001b[38;5;124msource_row\u001b[39m\u001b[38;5;124m'\u001b[39m], inplace\u001b[38;5;241m=\u001b[39m\u001b[38;5;28;01mTrue\u001b[39;00m)\n",
      "Cell \u001b[0;32mIn[2], line 3\u001b[0m, in \u001b[0;36mload_file\u001b[0;34m(path)\u001b[0m\n\u001b[1;32m      1\u001b[0m \u001b[38;5;28;01mdef\u001b[39;00m \u001b[38;5;21mload_file\u001b[39m(path):\n\u001b[1;32m      2\u001b[0m     file_path \u001b[38;5;241m=\u001b[39m path\n\u001b[0;32m----> 3\u001b[0m     df \u001b[38;5;241m=\u001b[39m \u001b[43mpd\u001b[49m\u001b[38;5;241m.\u001b[39mread_csv(file_path)\n\u001b[1;32m      4\u001b[0m     \u001b[38;5;66;03m#Automatic fixes\u001b[39;00m\n\u001b[1;32m      5\u001b[0m     df \u001b[38;5;241m=\u001b[39m df\u001b[38;5;241m.\u001b[39mreplace(\u001b[38;5;124mr\u001b[39m\u001b[38;5;124m'\u001b[39m\u001b[38;5;124m^\u001b[39m\u001b[38;5;124m\\\u001b[39m\u001b[38;5;124ms*$\u001b[39m\u001b[38;5;124m'\u001b[39m, np\u001b[38;5;241m.\u001b[39mnan, regex\u001b[38;5;241m=\u001b[39m\u001b[38;5;28;01mTrue\u001b[39;00m) \u001b[38;5;66;03m#replaces empty strings spacess with NaN\u001b[39;00m\n",
      "\u001b[0;31mNameError\u001b[0m: name 'pd' is not defined"
     ]
    }
   ],
   "source": [
    "\n",
    "\n",
    "df = load_file('/Users/brandon/Desktop/combined_missing_data.csv')\n",
    "\n",
    "df.drop(columns=['Unnamed:0', 'source_row'], inplace=True)\n",
    "\n"
   ]
  },
  {
   "cell_type": "code",
   "execution_count": 4,
   "id": "a590b5ae",
   "metadata": {},
   "outputs": [],
   "source": [
    "\n",
    "import random\n",
    "import string\n",
    "letters = string.ascii_lowercase\n",
    "\n",
    "\n",
    "def random_boolean_list(length):\n",
    "    return [random.choice([True, False]) for i in range(length)]\n",
    "\n",
    "def random_string_list(length):\n",
    "    values = ['a','b','c']\n",
    "    return [random.choice(values) for i in range(length)]\n",
    "\n",
    "def random_int_list(length):\n",
    "    return [random.randint(0, 100) for i in range(length)]\n",
    "\n",
    "def random_float_list(length):\n",
    "    return [random.uniform(0, 100) for i in range(length)]\n",
    "\n",
    "def random_column(rows):\n",
    "    choice = [random_boolean_list, random_string_list, random_int_list, random_float_list]\n",
    "    return random.choice(choice)(rows)\n",
    "\n",
    "def random_dataframe(row_count, col_count):\n",
    "    columns = [''.join(random.choice(letters) for i in range(7)) for i in range(col_count - 1)]\n",
    "    df = pd.DataFrame()\n",
    "    for column in columns:\n",
    "        df[column] = random_column(row_count)\n",
    "    df['target'] = random_boolean_list(row_count)\n",
    "    return df"
   ]
  },
  {
   "cell_type": "code",
   "execution_count": 23,
   "id": "9be39a22-d2b4-4dfc-b7de-9b243d3fd2ca",
   "metadata": {},
   "outputs": [],
   "source": [
    "random_dataframe(300, 20).to_csv('/Users/brandon/Desktop/random200x20_combine.csv')\n",
    "\n"
   ]
  },
  {
   "cell_type": "code",
   "execution_count": null,
   "id": "f30b1a17",
   "metadata": {},
   "outputs": [],
   "source": []
  },
  {
   "cell_type": "code",
   "execution_count": null,
   "id": "bbb8a32d",
   "metadata": {},
   "outputs": [],
   "source": []
  },
  {
   "cell_type": "code",
   "execution_count": null,
   "id": "6235c221",
   "metadata": {},
   "outputs": [],
   "source": []
  },
  {
   "cell_type": "code",
   "execution_count": null,
   "id": "1fb27805",
   "metadata": {},
   "outputs": [],
   "source": []
  },
  {
   "cell_type": "code",
   "execution_count": null,
   "id": "6a671993",
   "metadata": {},
   "outputs": [],
   "source": []
  },
  {
   "cell_type": "code",
   "execution_count": null,
   "id": "1cb4614f",
   "metadata": {},
   "outputs": [],
   "source": []
  }
 ],
 "metadata": {
  "interpreter": {
   "hash": "69c33d38f5447ba70a34ce3d3715708198eb8cd6d1bb119410ffe64ae291b5e4"
  },
  "kernelspec": {
   "display_name": "Python 3.10.9 64-bit ('3.10.9')",
   "language": "python",
   "name": "python3"
  },
  "language_info": {
   "codemirror_mode": {
    "name": "ipython",
    "version": 3
   },
   "file_extension": ".py",
   "mimetype": "text/x-python",
   "name": "python",
   "nbconvert_exporter": "python",
   "pygments_lexer": "ipython3",
   "version": "3.10.9"
  },
  "vscode": {
   "interpreter": {
    "hash": "f214302c4be4af053e1060f64f7316a672414588e1d594bb2a86016ac778f53c"
   }
  }
 },
 "nbformat": 4,
 "nbformat_minor": 5
}
