{
 "cells": [
  {
   "cell_type": "code",
   "execution_count": null,
   "id": "ea68bf6b",
   "metadata": {},
   "outputs": [],
   "source": []
  },
  {
   "cell_type": "code",
   "execution_count": 1,
   "id": "12eacdc2-8a65-40ad-b96f-a98c8c4a6174",
   "metadata": {},
   "outputs": [],
   "source": [
    "import pandas as pd\n",
    "import numpy as np\n",
    "import os\n",
    "import simplejson\n",
    "import json"
   ]
  },
  {
   "cell_type": "code",
   "execution_count": 2,
   "id": "76eec8e0",
   "metadata": {},
   "outputs": [],
   "source": [
    "def load_file(path):\n",
    "    file_path = path\n",
    "    df = pd.read_csv(file_path)\n",
    "    #Automatic fixes\n",
    "    df = df.replace(r'^\\s*$', np.nan, regex=True) #replaces empty strings spacess with NaN\n",
    "    return df\n"
   ]
  },
  {
   "cell_type": "code",
   "execution_count": 3,
   "id": "da6a9c47",
   "metadata": {},
   "outputs": [],
   "source": [
    "def file_params(df):\n",
    "    params = {}\n",
    "    #size\n",
    "    params['size'] = {}\n",
    "    params['size']['rows'] = int(df.shape[0])\n",
    "    params['size']['cols'] = int(df.shape[1])\n",
    "\n",
    "    #missing values\n",
    "    params['missing'] = {}\n",
    "    ##rows\n",
    "    params['missing']['rows'] = int(df[df.isna().any(axis=1)].shape[0])\n",
    "    params['missing']['rowsPercent'] = float(round(params['missing']['rows'] / params['size']['rows'], 7) * 100)\n",
    "    ##cells\n",
    "    params['missing']['cells'] = int(df.isna().sum().sum())\n",
    "    params['missing']['cellsPercent'] = float(round(params['missing']['cells'] / (params['size']['rows'] * params['size']['cols']), 7) * 100)\n",
    "    ##columns\n",
    "    missingColumn = df.isna().sum()\n",
    "    params['missing']['cols'] = missingColumn[missingColumn != 0].to_dict()\n",
    "    ###percent of total values in colums\n",
    "    nanByColumnPercent = round(df.isna().sum() / df.count().sum() * 100, 4)\n",
    "    params['missing']['colsPercent'] = nanByColumnPercent[nanByColumnPercent !=0].to_dict()\n",
    "    ###percent ot total missing values\n",
    "    nanColumnContributionPercent = round(df.isna().sum() / df.isna().sum().sum() * 100, 2)\n",
    "    params['missing']['colsPercentContribution'] = nanColumnContributionPercent[nanColumnContributionPercent !=0].to_dict()\n",
    "\n",
    "    #names\n",
    "    params['names'] = {}\n",
    "    params['names']['cols'] = list(df.columns.values)\n",
    "    params['names']['colsReverse'] = list(df.columns.values)\n",
    "    params['names']['colsReverse'].reverse()\n",
    "\n",
    "    #describe\n",
    "    params['describe'] = df.describe().to_dict()\n",
    "\n",
    "    return params"
   ]
  },
  {
   "cell_type": "code",
   "execution_count": 4,
   "id": "1aebd92c",
   "metadata": {},
   "outputs": [],
   "source": [
    "\n",
    "target = 'NFLness'\n",
    "\n",
    "df_sub1 = load_file('/Users/brandon/Desktop/test_data/NFL-Gen-Test_missing.csv')\n",
    "\n",
    "\n",
    "\n",
    "df_sub2 = load_file('/Users/brandon/Desktop/test_data/NFL-Training_missing.csv')\n",
    "\n",
    "df = pd.concat([df_sub1, df_sub2])"
   ]
  },
  {
   "cell_type": "code",
   "execution_count": 5,
   "id": "a590b5ae",
   "metadata": {},
   "outputs": [],
   "source": [
    "def fill_in_zeros(dict):\n",
    "    if not 1 in dict:\n",
    "        dict[1] = 0\n",
    "    if not 0 in dict:\n",
    "        dict[0] = 0\n",
    "    return dict\n",
    "\n",
    "def counts_to_percent(df):\n",
    "    return round(df['counts'] / df['counts'].sum() * 100,1)\n"
   ]
  },
  {
   "cell_type": "code",
   "execution_count": 76,
   "id": "9be39a22-d2b4-4dfc-b7de-9b243d3fd2ca",
   "metadata": {},
   "outputs": [
    {
     "data": {
      "text/plain": [
       "{'total': {'counts': {0: 246, 1: 242}, 'percent': {0: 50.4, 1: 49.6}}}"
      ]
     },
     "execution_count": 76,
     "metadata": {},
     "output_type": "execute_result"
    }
   ],
   "source": []
  },
  {
   "cell_type": "code",
   "execution_count": 6,
   "id": "f30b1a17",
   "metadata": {},
   "outputs": [
    {
     "data": {
      "text/plain": [
       "'{\"class\": {\"major\": 0, \"minor\": 1}, \"describe\": {\"total\": {\"counts\": {\"0\": 246, \"1\": 242}, \"percent\": {\"0\": 50.4, \"1\": 49.6}}, \"nan\": {\"counts\": {\"1\": 17, \"0\": 0}, \"percent\": {\"1\": 3.5, \"0\": 0.0}}, \"non_nan\": {\"counts\": {\"0\": 246, \"1\": 225}, \"percent\": {\"0\": 50.4, \"1\": 46.1}}}}'"
      ]
     },
     "execution_count": 6,
     "metadata": {},
     "output_type": "execute_result"
    }
   ],
   "source": [
    "\n",
    "result = {}\n",
    "\n",
    "#counts\n",
    "total_df = pd.DataFrame(df[target].value_counts().astype(int))\n",
    "total_df.rename(columns={target: 'counts'}, inplace=True)\n",
    "#percentage\n",
    "total_df['percent'] = counts_to_percent(total_df)\n",
    "\n",
    "\n",
    "result['total'] = total_df.to_dict()\n",
    "\n",
    "\n",
    "\n",
    "nan_df = df[df.isna().any(axis=1)][target].value_counts()\n",
    "nan_df = fill_in_zeros(nan_df)\n",
    "\n",
    "nan_df = pd.DataFrame(nan_df)\n",
    "nan_df.rename(columns={target: 'counts'}, inplace=True)\n",
    "\n",
    "nan_df['percent'] = round(nan_df['counts'] / total_df['counts'].sum() * 100,1)\n",
    "\n",
    "\n",
    "result['nan'] = nan_df.to_dict()\n",
    "\n",
    "\n",
    "non_nan_df = df[~df.isna().any(axis=1)][target].value_counts()\n",
    "non_nan_df = fill_in_zeros(non_nan_df)\n",
    "\n",
    "non_nan_df = pd.DataFrame(non_nan_df)\n",
    "non_nan_df.rename(columns={target: 'counts'}, inplace=True)\n",
    "\n",
    "non_nan_df['percent'] = counts_to_percent(non_nan_df)\n",
    "\n",
    "non_nan_df['percent'] = round(non_nan_df['counts'] / total_df['counts'].sum() * 100,1)\n",
    "\n",
    "result['non_nan'] = non_nan_df.to_dict()\n",
    "\n",
    "\n",
    "major = df[target].value_counts().idxmax()\n",
    "minor = df[target].value_counts().idxmin()\n",
    "\n",
    "training_size = 25\n",
    "\n",
    "test_major = result['total']['counts'][major] - training_size\n",
    "test_minor = result['total']['counts'][minor] - training_size\n",
    "\n",
    "total = test_major + test_minor + (2 * training_size)\n",
    "\n",
    "partition = {\n",
    "    'train': {\n",
    "        'total': {\n",
    "            'counts': training_size * 2,\n",
    "            'percent': round(training_size * 2 / total * 100, 1)\n",
    "        },\n",
    "        'counts' : {\n",
    "            major: training_size,\n",
    "            minor: training_size\n",
    "        },\n",
    "        'percent': {\n",
    "            major: round(training_size / total * 100, 1),\n",
    "            minor: round(training_size / total * 100, 1),\n",
    "        }\n",
    "    },\n",
    "    'test': {\n",
    "        'total':  {\n",
    "            'counts': test_major + test_minor,\n",
    "            'percent': round((test_major + test_minor) / total * 100, 1)\n",
    "        },\n",
    "        'counts' : {\n",
    "            major: test_major,\n",
    "            minor: test_minor\n",
    "        },\n",
    "        'percent': {\n",
    "            major: round(test_major / total * 100, 1),\n",
    "            minor: round(test_minor / total * 100, 1),\n",
    "        }\n",
    "\n",
    "    }\n",
    "}\n",
    "\n",
    "\n",
    "#TODO deal with if equal\n",
    "\n",
    "json = {\n",
    "    'class': {\n",
    "        'major': int(major),\n",
    "        'minor': int(minor)\n",
    "    },\n",
    "    'describe': result\n",
    "}\n",
    "\n",
    "json\n",
    "\n",
    "\n",
    "\n",
    "\n",
    "\n",
    "simplejson.dumps(json, ignore_nan=True)"
   ]
  },
  {
   "cell_type": "code",
   "execution_count": 13,
   "id": "bbb8a32d",
   "metadata": {},
   "outputs": [
    {
     "ename": "SyntaxError",
     "evalue": "unmatched ']' (3213029144.py, line 1)",
     "output_type": "error",
     "traceback": [
      "\u001b[0;36m  Input \u001b[0;32mIn [13]\u001b[0;36m\u001b[0m\n\u001b[0;31m    df.iloc[0:5, 0:5]]\u001b[0m\n\u001b[0m                     ^\u001b[0m\n\u001b[0;31mSyntaxError\u001b[0m\u001b[0;31m:\u001b[0m unmatched ']'\n"
     ]
    }
   ],
   "source": [
    "df.iloc[0:5, 0:5]]"
   ]
  },
  {
   "cell_type": "code",
   "execution_count": null,
   "id": "6235c221",
   "metadata": {},
   "outputs": [],
   "source": []
  },
  {
   "cell_type": "code",
   "execution_count": null,
   "id": "1fb27805",
   "metadata": {},
   "outputs": [],
   "source": []
  },
  {
   "cell_type": "code",
   "execution_count": null,
   "id": "6a671993",
   "metadata": {},
   "outputs": [],
   "source": []
  },
  {
   "cell_type": "code",
   "execution_count": null,
   "id": "1cb4614f",
   "metadata": {},
   "outputs": [],
   "source": []
  }
 ],
 "metadata": {
  "kernelspec": {
   "display_name": "Python 3.9.13 ('env': venv)",
   "language": "python",
   "name": "python3"
  },
  "language_info": {
   "codemirror_mode": {
    "name": "ipython",
    "version": 3
   },
   "file_extension": ".py",
   "mimetype": "text/x-python",
   "name": "python",
   "nbconvert_exporter": "python",
   "pygments_lexer": "ipython3",
   "version": "3.9.13"
  },
  "vscode": {
   "interpreter": {
    "hash": "f214302c4be4af053e1060f64f7316a672414588e1d594bb2a86016ac778f53c"
   }
  }
 },
 "nbformat": 4,
 "nbformat_minor": 5
}
