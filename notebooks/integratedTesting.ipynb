{
 "cells": [
  {
   "cell_type": "code",
   "execution_count": null,
   "id": "ea68bf6b",
   "metadata": {},
   "outputs": [],
   "source": []
  },
  {
   "cell_type": "code",
   "execution_count": 1,
   "id": "12eacdc2-8a65-40ad-b96f-a98c8c4a6174",
   "metadata": {},
   "outputs": [],
   "source": [
    "import pandas as pd\n",
    "import numpy as np\n",
    "import os\n",
    "import simplejson\n"
   ]
  },
  {
   "cell_type": "code",
   "execution_count": 5,
   "id": "76eec8e0",
   "metadata": {},
   "outputs": [],
   "source": [
    "def load_file(path):\n",
    "    file_path = path\n",
    "    df = pd.read_csv(file_path)\n",
    "    #Automatic fixes\n",
    "    df = df.replace(r'^\\s*$', np.nan, regex=True) #replaces empty strings spacess with NaN\n",
    "    return df\n"
   ]
  },
  {
   "cell_type": "code",
   "execution_count": 2,
   "id": "da6a9c47",
   "metadata": {},
   "outputs": [],
   "source": [
    "def file_params(df):\n",
    "    params = {}\n",
    "    #size\n",
    "    params['size'] = {}\n",
    "    params['size']['rows'] = int(df.shape[0])\n",
    "    params['size']['cols'] = int(df.shape[1])\n",
    "\n",
    "    #missing values\n",
    "    params['missing'] = {}\n",
    "    ##rows\n",
    "    params['missing']['rows'] = int(df[df.isna().any(axis=1)].shape[0])\n",
    "    params['missing']['rowsPercent'] = float(round(params['missing']['rows'] / params['size']['rows'], 7) * 100)\n",
    "    ##cells\n",
    "    params['missing']['cells'] = int(df.isna().sum().sum())\n",
    "    params['missing']['cellsPercent'] = float(round(params['missing']['cells'] / (params['size']['rows'] * params['size']['cols']), 7) * 100)\n",
    "    ##columns\n",
    "    missingColumn = df.isna().sum()\n",
    "    params['missing']['cols'] = missingColumn[missingColumn != 0].to_dict()\n",
    "    ###percent of total values in colums\n",
    "    nanByColumnPercent = round(df.isna().sum() / df.count().sum() * 100, 4)\n",
    "    params['missing']['colsPercent'] = nanByColumnPercent[nanByColumnPercent !=0].to_dict()\n",
    "    ###percent ot total missing values\n",
    "    nanColumnContributionPercent = round(df.isna().sum() / df.isna().sum().sum() * 100, 2)\n",
    "    params['missing']['colsPercentContribution'] = nanColumnContributionPercent[nanColumnContributionPercent !=0].to_dict()\n",
    "\n",
    "    #names\n",
    "    params['names'] = {}\n",
    "    params['names']['cols'] = list(df.columns.values)\n",
    "    params['names']['colsReverse'] = list(df.columns.values)\n",
    "    params['names']['colsReverse'].reverse()\n",
    "\n",
    "    #describe\n",
    "    params['describe'] = df.describe().to_dict()\n",
    "\n",
    "    return params"
   ]
  },
  {
   "cell_type": "code",
   "execution_count": 36,
   "id": "1aebd92c",
   "metadata": {},
   "outputs": [],
   "source": [
    "path =  '/Users/brandon/Desktop/NFL-Gen-Test_missing.csv'\n",
    "\n",
    "df = load_file(path)\n",
    "\n"
   ]
  },
  {
   "cell_type": "code",
   "execution_count": 49,
   "id": "9be39a22-d2b4-4dfc-b7de-9b243d3fd2ca",
   "metadata": {},
   "outputs": [
    {
     "data": {
      "text/plain": [
       "208"
      ]
     },
     "execution_count": 49,
     "metadata": {},
     "output_type": "execute_result"
    }
   ],
   "source": [
    "\n",
    "\n"
   ]
  },
  {
   "cell_type": "code",
   "execution_count": 120,
   "id": "f30b1a17",
   "metadata": {},
   "outputs": [
    {
     "name": "stdout",
     "output_type": "stream",
     "text": [
      "[{'multipleMissing': 2, 'singleMissing': 1, 'total': 3, 'col': 'BenchReps'}, {'singleMissing': 1, 'multipleMissing': 0, 'total': 1, 'col': 'Broad Jump'}, {'multipleMissing': 3, 'singleMissing': 0, 'total': 3, 'col': '3Cone'}]\n"
     ]
    }
   ],
   "source": [
    "missing = []\n",
    "\n",
    "#determine how to relabel groupings of booleans\n",
    "mapDict = {True: 'singleMissing', False: 'multipleMissing'}\n",
    "\n",
    "#calculate how many rows have single missing values\n",
    "#row_opporunities = (df[df.isnull().sum(axis=1) != 0].isnull().sum(axis=1) == 1).map(mapDict).value_counts()\n",
    "\n",
    "#determine metrics for each individula column\n",
    "for col in df.columns:\n",
    "\n",
    "    #determine how many rows have single missing values vs multiple\n",
    "    split = df[df[col].isna()].isna().sum(axis=1) > 1\n",
    "    d = split.map(mapDict).value_counts() #group\n",
    "\n",
    "    \n",
    "\n",
    "    #complete dictionary\n",
    "    if 'singleMissing' not in d:\n",
    "        d['singleMissing'] = 0\n",
    "    if 'multipleMissing' not in d:\n",
    "        d['multipleMissing'] = 0\n",
    "\n",
    "    #other metrics to use\n",
    "    d['total'] = d.sum()\n",
    "#    d['percentValues'] = round(d['total'] / (df.shape[0] * df.shape[1]) * 100, 2)\n",
    "#    d['percentContributions'] = round(d['total'] / df.isnull().sum().sum() * 100, 2)\n",
    "    d['col'] = col\n",
    "\n",
    "    if d['total'] > 0:\n",
    "        d = d.to_dict()\n",
    "        missing.append(d)\n",
    "\n",
    "print(missing)\n",
    "\n",
    "     \n",
    "# drop_calc = {}\n",
    "# drop_calc['totalRows'] = df.shape[0]\n",
    "# drop_calc['totalCols'] = df.drop(dropped_cols, axis=1).dropna().shape[0]\n"
   ]
  },
  {
   "cell_type": "code",
   "execution_count": 109,
   "id": "bbb8a32d",
   "metadata": {},
   "outputs": [
    {
     "data": {
      "text/plain": [
       "7"
      ]
     },
     "execution_count": 109,
     "metadata": {},
     "output_type": "execute_result"
    }
   ],
   "source": []
  },
  {
   "cell_type": "code",
   "execution_count": null,
   "id": "6235c221",
   "metadata": {},
   "outputs": [],
   "source": []
  },
  {
   "cell_type": "code",
   "execution_count": null,
   "id": "1fb27805",
   "metadata": {},
   "outputs": [],
   "source": []
  },
  {
   "cell_type": "code",
   "execution_count": null,
   "id": "6a671993",
   "metadata": {},
   "outputs": [],
   "source": []
  },
  {
   "cell_type": "code",
   "execution_count": null,
   "id": "1cb4614f",
   "metadata": {},
   "outputs": [],
   "source": []
  }
 ],
 "metadata": {
  "kernelspec": {
   "display_name": "Python 3.9.13 ('env': venv)",
   "language": "python",
   "name": "python3"
  },
  "language_info": {
   "codemirror_mode": {
    "name": "ipython",
    "version": 3
   },
   "file_extension": ".py",
   "mimetype": "text/x-python",
   "name": "python",
   "nbconvert_exporter": "python",
   "pygments_lexer": "ipython3",
   "version": "3.9.13"
  },
  "vscode": {
   "interpreter": {
    "hash": "f214302c4be4af053e1060f64f7316a672414588e1d594bb2a86016ac778f53c"
   }
  }
 },
 "nbformat": 4,
 "nbformat_minor": 5
}
