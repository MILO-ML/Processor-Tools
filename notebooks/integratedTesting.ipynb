{
 "cells": [
  {
   "cell_type": "code",
   "execution_count": null,
   "id": "ea68bf6b",
   "metadata": {},
   "outputs": [],
   "source": []
  },
  {
   "cell_type": "code",
   "execution_count": 2,
   "id": "12eacdc2-8a65-40ad-b96f-a98c8c4a6174",
   "metadata": {},
   "outputs": [],
   "source": [
    "import pandas as pd\n",
    "import numpy as np\n",
    "import os\n",
    "import simplejson\n"
   ]
  },
  {
   "cell_type": "code",
   "execution_count": 3,
   "id": "76eec8e0",
   "metadata": {},
   "outputs": [],
   "source": [
    "def load_file(path):\n",
    "    file_path = path\n",
    "    df = pd.read_csv(file_path)\n",
    "    #Automatic fixes\n",
    "    df = df.replace(r'^\\s*$', np.nan, regex=True) #replaces empty strings spacess with NaN\n",
    "    return df\n"
   ]
  },
  {
   "cell_type": "code",
   "execution_count": 4,
   "id": "da6a9c47",
   "metadata": {},
   "outputs": [],
   "source": [
    "def file_params(df):\n",
    "    params = {}\n",
    "    #size\n",
    "    params['size'] = {}\n",
    "    params['size']['rows'] = int(df.shape[0])\n",
    "    params['size']['cols'] = int(df.shape[1])\n",
    "\n",
    "    #missing values\n",
    "    params['missing'] = {}\n",
    "    ##rows\n",
    "    params['missing']['rows'] = int(df[df.isna().any(axis=1)].shape[0])\n",
    "    params['missing']['rowsPercent'] = float(round(params['missing']['rows'] / params['size']['rows'], 7) * 100)\n",
    "    ##cells\n",
    "    params['missing']['cells'] = int(df.isna().sum().sum())\n",
    "    params['missing']['cellsPercent'] = float(round(params['missing']['cells'] / (params['size']['rows'] * params['size']['cols']), 7) * 100)\n",
    "    ##columns\n",
    "    missingColumn = df.isna().sum()\n",
    "    params['missing']['cols'] = missingColumn[missingColumn != 0].to_dict()\n",
    "    ###percent of total values in colums\n",
    "    nanByColumnPercent = round(df.isna().sum() / df.count().sum() * 100, 4)\n",
    "    params['missing']['colsPercent'] = nanByColumnPercent[nanByColumnPercent !=0].to_dict()\n",
    "    ###percent ot total missing values\n",
    "    nanColumnContributionPercent = round(df.isna().sum() / df.isna().sum().sum() * 100, 2)\n",
    "    params['missing']['colsPercentContribution'] = nanColumnContributionPercent[nanColumnContributionPercent !=0].to_dict()\n",
    "\n",
    "    #names\n",
    "    params['names'] = {}\n",
    "    params['names']['cols'] = list(df.columns.values)\n",
    "    params['names']['colsReverse'] = list(df.columns.values)\n",
    "    params['names']['colsReverse'].reverse()\n",
    "\n",
    "    #describe\n",
    "    params['describe'] = df.describe().to_dict()\n",
    "\n",
    "    return params"
   ]
  },
  {
   "cell_type": "code",
   "execution_count": 19,
   "id": "1aebd92c",
   "metadata": {},
   "outputs": [],
   "source": [
    "path =  ''\n",
    "df_si = '123'\n",
    "df2_si = '456'\n",
    "\n",
    "df_sub1 = load_file('/Users/brandon/Desktop/test.csv')\n",
    "df_sub1['storage_id'] = df_si\n",
    "df_sub2 = load_file('/Users/brandon/Desktop/train.csv')\n",
    "df_sub2['storage_id'] = df2_si\n",
    "\n",
    "df = pd.concat([df_sub1, df_sub2])\n",
    "\n",
    "id = df['storage_id']\n",
    "\n",
    "df.drop(['storage_id'], axis=1, inplace=True)\n",
    "\n",
    "\n"
   ]
  },
  {
   "cell_type": "code",
   "execution_count": 20,
   "id": "9be39a22-d2b4-4dfc-b7de-9b243d3fd2ca",
   "metadata": {},
   "outputs": [],
   "source": [
    "valid_data_types = ['int16', 'int32', 'int64', 'float16', 'float32', 'float64', 'bool']\n",
    "\n",
    "valid = df.select_dtypes(include=valid_data_types)\n",
    "\n",
    "invalid = df.drop(columns=valid.columns)"
   ]
  },
  {
   "cell_type": "code",
   "execution_count": 25,
   "id": "f30b1a17",
   "metadata": {},
   "outputs": [],
   "source": [
    "result = []\n",
    "\n",
    "for column in invalid.columns:\n",
    "    col = invalid[column]\n",
    "\n",
    "    total_count = col.shape[0]\n",
    "    nan_count = col.isna().sum()\n",
    "\n",
    "    col = col.dropna()\n",
    "    not_nan_count = col.shape[0]\n",
    "\n",
    "    numeric = ~pd.to_numeric(col, errors='coerce').isna()\n",
    "    numeric_count = numeric.sum()\n",
    "\n",
    "    if (numeric_count / total_count) > 0.6:\n",
    "        invalid[column] = pd.to_numeric(col, errors='coerce')\n",
    "        #proposed_transform\n",
    "        result.append({\n",
    "            'col': col,\n",
    "            'method': 'mixed_to_numeric',\n",
    "            'nan_row_index': list(col[col.isna() == True].index),\n",
    "            'non_numeric_row_index': list(numeric[numeric == False].index)\n",
    "        })\n",
    "    else:\n",
    "        result.append({\n",
    "            'col': col,\n",
    "            'method': 'one_hot_encode',\n",
    "            'unique_values': list(col.unique()),\n",
    "            'nan_row_index': list(col[col.isna() == True].index),\n",
    "            'keep_column': True if len(list(col.unique())) <=20 else False #rule to decide if column should be dropped by default\n",
    "        })\n"
   ]
  },
  {
   "cell_type": "code",
   "execution_count": 26,
   "id": "bbb8a32d",
   "metadata": {},
   "outputs": [
    {
     "data": {
      "text/plain": [
       "{'cat1': {'type': 'one_hot_encode',\n",
       "  'unique_values': ['A', 'B', 'C'],\n",
       "  'nan_row_index': [],\n",
       "  'keep_column': True},\n",
       " 'cat2': {'type': 'one_hot_encode',\n",
       "  'unique_values': ['one', 'two'],\n",
       "  'nan_row_index': [],\n",
       "  'keep_column': True},\n",
       " 'num_cont': {'type': 'mixed_to_numeric',\n",
       "  'nan_row_index': [],\n",
       "  'non_numeric_row_index': [0, 0]}}"
      ]
     },
     "execution_count": 26,
     "metadata": {},
     "output_type": "execute_result"
    }
   ],
   "source": [
    "transforms"
   ]
  },
  {
   "cell_type": "code",
   "execution_count": null,
   "id": "6235c221",
   "metadata": {},
   "outputs": [],
   "source": []
  },
  {
   "cell_type": "code",
   "execution_count": null,
   "id": "1fb27805",
   "metadata": {},
   "outputs": [],
   "source": []
  },
  {
   "cell_type": "code",
   "execution_count": null,
   "id": "6a671993",
   "metadata": {},
   "outputs": [],
   "source": []
  },
  {
   "cell_type": "code",
   "execution_count": null,
   "id": "1cb4614f",
   "metadata": {},
   "outputs": [],
   "source": []
  }
 ],
 "metadata": {
  "kernelspec": {
   "display_name": "Python 3.9.13 ('env': venv)",
   "language": "python",
   "name": "python3"
  },
  "language_info": {
   "codemirror_mode": {
    "name": "ipython",
    "version": 3
   },
   "file_extension": ".py",
   "mimetype": "text/x-python",
   "name": "python",
   "nbconvert_exporter": "python",
   "pygments_lexer": "ipython3",
   "version": "3.9.13"
  },
  "vscode": {
   "interpreter": {
    "hash": "f214302c4be4af053e1060f64f7316a672414588e1d594bb2a86016ac778f53c"
   }
  }
 },
 "nbformat": 4,
 "nbformat_minor": 5
}
