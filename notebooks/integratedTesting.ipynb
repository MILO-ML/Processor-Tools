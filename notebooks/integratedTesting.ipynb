{
 "cells": [
  {
   "cell_type": "code",
   "execution_count": 1,
   "id": "12eacdc2-8a65-40ad-b96f-a98c8c4a6174",
   "metadata": {},
   "outputs": [],
   "source": [
    "import pandas as pd\n",
    "import numpy as np\n",
    "import os\n",
    "import simplejson\n"
   ]
  },
  {
   "cell_type": "code",
   "execution_count": 34,
   "id": "da6a9c47",
   "metadata": {},
   "outputs": [],
   "source": [
    "def load_file(path, name):\n",
    "    file_path = os.path.join(path, name)\n",
    "    df = pd.read_csv(file_path)\n",
    "    #Automatic fixes\n",
    "    df = df.replace(r'^\\s*$', np.nan, regex=True) #replaces empty strings spacess with NaN\n",
    "    return df\n",
    "\n",
    "def file_params(df):\n",
    "    params = {}\n",
    "    #size\n",
    "    params['size'] = {}\n",
    "    params['size']['rows'] = int(df.shape[0])\n",
    "    params['size']['cols'] = int(df.shape[1])\n",
    "\n",
    "    #missing values\n",
    "    params['missing'] = {}\n",
    "    ##rows\n",
    "    params['missing']['rows'] = int(df[df.isna().any(axis=1)].shape[0])\n",
    "    params['missing']['rowsPercent'] = float(round(params['missing']['rows'] / params['size']['rows'], 7) * 100)\n",
    "    ##cells\n",
    "    params['missing']['cells'] = int(df.isna().sum().sum())\n",
    "    params['missing']['cellsPercent'] = float(round(params['missing']['cells'] / (params['size']['rows'] * params['size']['cols']), 7) * 100)\n",
    "    ##columns\n",
    "    missingColumn = df.isna().sum()\n",
    "    params['missing']['cols'] = missingColumn[missingColumn != 0].to_dict()\n",
    "    ###percent of total values in colums\n",
    "    nanByColumnPercent = round(df.isna().sum() / df.sum().sum() * 100, 4)\n",
    "    params['missing']['colsPercent'] = nanByColumnPercent[nanByColumnPercent !=0].to_dict()\n",
    "    ###percent ot total missing values\n",
    "    nanColumnContributionPercent = round(df.isna().sum() / df.isna().sum().sum() * 100, 2)\n",
    "    params['missing']['colsPercentContribution'] = nanColumnContributionPercent[nanColumnContributionPercent !=0].to_dict()\n",
    "\n",
    "    #names\n",
    "    params['names'] = {}\n",
    "    params['names']['cols'] = list(df.columns.values)\n",
    "    params['names']['colsReverse'] = list(df.columns.values)\n",
    "    params['names']['colsReverse'].reverse()\n",
    "\n",
    "    #describe\n",
    "    params['describe'] = df.describe().to_dict()\n",
    "\n",
    "    return params"
   ]
  },
  {
   "cell_type": "code",
   "execution_count": 76,
   "id": "1aebd92c",
   "metadata": {},
   "outputs": [],
   "source": [
    "target = 10\n",
    "paramsArray = [\n",
    "    {'name': 'A', 'cols': [1,2,3,4,5,6,7,8,9,10]},\n",
    "    {'name': 'B', 'cols': [1,2,3,4,5,6,7,8]},\n",
    "    {'name': 'C', 'cols': [1,2,3,4,10]},\n",
    "]\n",
    "\n",
    "\n",
    "\n",
    "def cross_file_validation(fileObjectArray, target):\n",
    "\n",
    "\n",
    "\n",
    "    #check for missing target\n",
    "    missingTarget = []\n",
    "    for z in fileObjectArray:\n",
    "        if not target in z['names']['cols']:\n",
    "            missingTarget.append(z['storageId'])\n",
    "\n",
    "    targetValuesArray = []\n",
    "    for z in fileObjectArray:\n",
    "        if not z['storageId'] in missingTarget:\n",
    "            df = load_file(z['storageId'])\n",
    "            targetValuesArray.append(df[target].unique())\n",
    "    r = np.array(targetValuesArray).flatten()\n",
    "    targetValues = list(np.unique(r))\n",
    "    targetValues = list(map(lambda n: str(n), targetValues))\n",
    "\n",
    "    #mismatched columns\n",
    "    mismatchedColumns = []\n",
    "\n",
    "    for z in fileObjectArray:\n",
    "        for y in fileObjectArray:\n",
    "            if z['storageId'] != y['storageId']:\n",
    "                comp = [x for x in y['names']['cols'] if x not in z['names']['cols']]\n",
    "                if len(comp) > 0:\n",
    "                    mismatchedColumns.append({\n",
    "                        'has': y['storageId'],\n",
    "                        'misisng': z['storageId'],\n",
    "                        'missingCols': comp\n",
    "                    })\n",
    "\n",
    "\n",
    "    validation = {\n",
    "        'valid': len(missingTarget) == 0 and len(mismatchedColumns) == 0 and len(targetValues) == 2,\n",
    "        'missingTarget': missingTarget,\n",
    "        'mismatchedColumns': mismatchedColumns,\n",
    "        'targetValues': targetValues\n",
    "    }\n",
    "\n",
    "    return validation\n",
    "\n",
    "\n"
   ]
  },
  {
   "cell_type": "code",
   "execution_count": 35,
   "id": "9be39a22-d2b4-4dfc-b7de-9b243d3fd2ca",
   "metadata": {},
   "outputs": [],
   "source": [
    "file_path = '/Volumes/GoogleDrive-114506167238584938104/My Drive/misc_files'\n",
    "files = [\n",
    "    'NFL-Training_missing.csv',\n",
    "    'NFL-Gen-Test_missing.csv'\n",
    "]"
   ]
  },
  {
   "cell_type": "code",
   "execution_count": 77,
   "id": "f30b1a17",
   "metadata": {},
   "outputs": [],
   "source": [
    "df = load_file(file_path, files[0])"
   ]
  },
  {
   "cell_type": "code",
   "execution_count": 93,
   "id": "bbb8a32d",
   "metadata": {},
   "outputs": [
    {
     "data": {
      "text/plain": [
       "[0, 2, 3, 4]"
      ]
     },
     "execution_count": 93,
     "metadata": {},
     "output_type": "execute_result"
    }
   ],
   "source": []
  },
  {
   "cell_type": "code",
   "execution_count": 23,
   "id": "6235c221",
   "metadata": {},
   "outputs": [
    {
     "data": {
      "text/plain": [
       "Height        0\n",
       "Wt            0\n",
       "40YD          0\n",
       "Vertical      0\n",
       "BenchReps     7\n",
       "Broad Jump    0\n",
       "3Cone         4\n",
       "Shuttle       0\n",
       "BMI           0\n",
       "NFLness       0\n",
       "dtype: int64"
      ]
     },
     "execution_count": 23,
     "metadata": {},
     "output_type": "execute_result"
    }
   ],
   "source": [
    "df.isna().sum()"
   ]
  },
  {
   "cell_type": "code",
   "execution_count": null,
   "id": "1fb27805",
   "metadata": {},
   "outputs": [],
   "source": []
  }
 ],
 "metadata": {
  "kernelspec": {
   "display_name": "Python 3.9.13 ('env': venv)",
   "language": "python",
   "name": "python3"
  },
  "language_info": {
   "codemirror_mode": {
    "name": "ipython",
    "version": 3
   },
   "file_extension": ".py",
   "mimetype": "text/x-python",
   "name": "python",
   "nbconvert_exporter": "python",
   "pygments_lexer": "ipython3",
   "version": "3.9.13"
  },
  "vscode": {
   "interpreter": {
    "hash": "f214302c4be4af053e1060f64f7316a672414588e1d594bb2a86016ac778f53c"
   }
  }
 },
 "nbformat": 4,
 "nbformat_minor": 5
}
