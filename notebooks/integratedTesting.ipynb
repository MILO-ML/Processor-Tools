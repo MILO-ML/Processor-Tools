{
 "cells": [
  {
   "cell_type": "code",
   "execution_count": null,
   "id": "ea68bf6b",
   "metadata": {},
   "outputs": [],
   "source": []
  },
  {
   "cell_type": "code",
   "execution_count": 1,
   "id": "12eacdc2-8a65-40ad-b96f-a98c8c4a6174",
   "metadata": {},
   "outputs": [],
   "source": [
    "import pandas as pd\n",
    "import numpy as np\n",
    "import os\n",
    "import simplejson\n",
    "import json"
   ]
  },
  {
   "cell_type": "code",
   "execution_count": 2,
   "id": "76eec8e0",
   "metadata": {},
   "outputs": [],
   "source": [
    "def load_file(path):\n",
    "    file_path = path\n",
    "    df = pd.read_csv(file_path)\n",
    "    #Automatic fixes\n",
    "    df = df.replace(r'^\\s*$', np.nan, regex=True) #replaces empty strings spacess with NaN\n",
    "    return df\n"
   ]
  },
  {
   "cell_type": "code",
   "execution_count": 3,
   "id": "da6a9c47",
   "metadata": {},
   "outputs": [],
   "source": [
    "def file_params(df):\n",
    "    params = {}\n",
    "    #size\n",
    "    params['size'] = {}\n",
    "    params['size']['rows'] = int(df.shape[0])\n",
    "    params['size']['cols'] = int(df.shape[1])\n",
    "\n",
    "    #missing values\n",
    "    params['missing'] = {}\n",
    "    ##rows\n",
    "    params['missing']['rows'] = int(df[df.isna().any(axis=1)].shape[0])\n",
    "    params['missing']['rowsPercent'] = float(round(params['missing']['rows'] / params['size']['rows'], 7) * 100)\n",
    "    ##cells\n",
    "    params['missing']['cells'] = int(df.isna().sum().sum())\n",
    "    params['missing']['cellsPercent'] = float(round(params['missing']['cells'] / (params['size']['rows'] * params['size']['cols']), 7) * 100)\n",
    "    ##columns\n",
    "    missingColumn = df.isna().sum()\n",
    "    params['missing']['cols'] = missingColumn[missingColumn != 0].to_dict()\n",
    "    ###percent of total values in colums\n",
    "    nanByColumnPercent = round(df.isna().sum() / df.count().sum() * 100, 4)\n",
    "    params['missing']['colsPercent'] = nanByColumnPercent[nanByColumnPercent !=0].to_dict()\n",
    "    ###percent ot total missing values\n",
    "    nanColumnContributionPercent = round(df.isna().sum() / df.isna().sum().sum() * 100, 2)\n",
    "    params['missing']['colsPercentContribution'] = nanColumnContributionPercent[nanColumnContributionPercent !=0].to_dict()\n",
    "\n",
    "    #names\n",
    "    params['names'] = {}\n",
    "    params['names']['cols'] = list(df.columns.values)\n",
    "    params['names']['colsReverse'] = list(df.columns.values)\n",
    "    params['names']['colsReverse'].reverse()\n",
    "\n",
    "    #describe\n",
    "    params['describe'] = df.describe().to_dict()\n",
    "\n",
    "    return params"
   ]
  },
  {
   "cell_type": "code",
   "execution_count": 4,
   "id": "1aebd92c",
   "metadata": {},
   "outputs": [],
   "source": [
    "\n",
    "target = 'NFLness'\n",
    "\n",
    "df_sub1 = load_file('/Users/brandon/Desktop/test_data/NFL-Gen-Test_missing.csv')\n",
    "\n",
    "\n",
    "\n",
    "df_sub2 = load_file('/Users/brandon/Desktop/test_data/NFL-Training_missing.csv')\n",
    "\n",
    "df = pd.concat([df_sub1, df_sub2])"
   ]
  },
  {
   "cell_type": "code",
   "execution_count": 10,
   "id": "a590b5ae",
   "metadata": {},
   "outputs": [
    {
     "data": {
      "text/plain": [
       "True"
      ]
     },
     "execution_count": 10,
     "metadata": {},
     "output_type": "execute_result"
    }
   ],
   "source": []
  },
  {
   "cell_type": "code",
   "execution_count": 11,
   "id": "9be39a22-d2b4-4dfc-b7de-9b243d3fd2ca",
   "metadata": {},
   "outputs": [
    {
     "data": {
      "text/plain": [
       "(488, 10)"
      ]
     },
     "execution_count": 11,
     "metadata": {},
     "output_type": "execute_result"
    }
   ],
   "source": [
    "df.shape"
   ]
  },
  {
   "cell_type": "code",
   "execution_count": null,
   "id": "f30b1a17",
   "metadata": {},
   "outputs": [],
   "source": []
  },
  {
   "cell_type": "code",
   "execution_count": 7,
   "id": "bbb8a32d",
   "metadata": {},
   "outputs": [
    {
     "ename": "SyntaxError",
     "evalue": "unmatched ']' (3213029144.py, line 1)",
     "output_type": "error",
     "traceback": [
      "\u001b[0;36m  Input \u001b[0;32mIn [7]\u001b[0;36m\u001b[0m\n\u001b[0;31m    df.iloc[0:5, 0:5]]\u001b[0m\n\u001b[0m                     ^\u001b[0m\n\u001b[0;31mSyntaxError\u001b[0m\u001b[0;31m:\u001b[0m unmatched ']'\n"
     ]
    }
   ],
   "source": [
    "df.iloc[0:5, 0:5]]"
   ]
  },
  {
   "cell_type": "code",
   "execution_count": null,
   "id": "6235c221",
   "metadata": {},
   "outputs": [],
   "source": []
  },
  {
   "cell_type": "code",
   "execution_count": null,
   "id": "1fb27805",
   "metadata": {},
   "outputs": [],
   "source": []
  },
  {
   "cell_type": "code",
   "execution_count": null,
   "id": "6a671993",
   "metadata": {},
   "outputs": [],
   "source": []
  },
  {
   "cell_type": "code",
   "execution_count": null,
   "id": "1cb4614f",
   "metadata": {},
   "outputs": [],
   "source": []
  }
 ],
 "metadata": {
  "kernelspec": {
   "display_name": "Python 3.9.13 ('env': venv)",
   "language": "python",
   "name": "python3"
  },
  "language_info": {
   "codemirror_mode": {
    "name": "ipython",
    "version": 3
   },
   "file_extension": ".py",
   "mimetype": "text/x-python",
   "name": "python",
   "nbconvert_exporter": "python",
   "pygments_lexer": "ipython3",
   "version": "3.9.13"
  },
  "vscode": {
   "interpreter": {
    "hash": "f214302c4be4af053e1060f64f7316a672414588e1d594bb2a86016ac778f53c"
   }
  }
 },
 "nbformat": 4,
 "nbformat_minor": 5
}
