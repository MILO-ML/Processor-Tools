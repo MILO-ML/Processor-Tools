{
 "cells": [
  {
   "cell_type": "code",
   "execution_count": 79,
   "metadata": {},
   "outputs": [
    {
     "ename": "ModuleNotFoundError",
     "evalue": "No module named 'sklearn'",
     "output_type": "error",
     "traceback": [
      "\u001b[0;31m---------------------------------------------------------------------------\u001b[0m",
      "\u001b[0;31mModuleNotFoundError\u001b[0m                       Traceback (most recent call last)",
      "\u001b[1;32m/Users/brandon/local_only/milo-pp2/notebooks/encoder_trial.ipynb Cell 1'\u001b[0m in \u001b[0;36m<cell line: 3>\u001b[0;34m()\u001b[0m\n\u001b[1;32m      <a href='vscode-notebook-cell:/Users/brandon/local_only/milo-pp2/notebooks/encoder_trial.ipynb#ch0000000?line=0'>1</a>\u001b[0m \u001b[39mimport\u001b[39;00m \u001b[39mpandas\u001b[39;00m \u001b[39mas\u001b[39;00m \u001b[39mpd\u001b[39;00m\n\u001b[1;32m      <a href='vscode-notebook-cell:/Users/brandon/local_only/milo-pp2/notebooks/encoder_trial.ipynb#ch0000000?line=1'>2</a>\u001b[0m \u001b[39mimport\u001b[39;00m \u001b[39mnumpy\u001b[39;00m \u001b[39mas\u001b[39;00m \u001b[39mnp\u001b[39;00m\n\u001b[0;32m----> <a href='vscode-notebook-cell:/Users/brandon/local_only/milo-pp2/notebooks/encoder_trial.ipynb#ch0000000?line=2'>3</a>\u001b[0m \u001b[39mfrom\u001b[39;00m \u001b[39msklearn\u001b[39;00m\u001b[39m.\u001b[39;00m\u001b[39mpreprocessing\u001b[39;00m \u001b[39mimport\u001b[39;00m OneHotEncoder\n",
      "\u001b[0;31mModuleNotFoundError\u001b[0m: No module named 'sklearn'"
     ]
    }
   ],
   "source": [
    "import pandas as pd\n",
    "import numpy as np\n",
    "from sklearn.preprocessing import OneHotEncoder"
   ]
  },
  {
   "cell_type": "code",
   "execution_count": 44,
   "metadata": {},
   "outputs": [],
   "source": [
    "df = pd.read_csv('/Users/brandon/Desktop/MILO/test_files/dummy_train_column_scan.csv')\n",
    "df = df.replace(r'^\\s*$', np.nan, regex=True) #replaces empty strings spacess with NaN"
   ]
  },
  {
   "cell_type": "code",
   "execution_count": 78,
   "metadata": {},
   "outputs": [
    {
     "ename": "NameError",
     "evalue": "name 'OneHotEncoder' is not defined",
     "output_type": "error",
     "traceback": [
      "\u001b[0;31m---------------------------------------------------------------------------\u001b[0m",
      "\u001b[0;31mNameError\u001b[0m                                 Traceback (most recent call last)",
      "\u001b[1;32m/Users/brandon/local_only/milo-pp2/notebooks/encoder_trial.ipynb Cell 3'\u001b[0m in \u001b[0;36m<cell line: 9>\u001b[0;34m()\u001b[0m\n\u001b[1;32m     <a href='vscode-notebook-cell:/Users/brandon/local_only/milo-pp2/notebooks/encoder_trial.ipynb#ch0000002?line=28'>29</a>\u001b[0m     invalid[column] \u001b[39m=\u001b[39m col\u001b[39m.\u001b[39mmap(mapping)\u001b[39m.\u001b[39mastype(\u001b[39m'\u001b[39m\u001b[39mint\u001b[39m\u001b[39m'\u001b[39m)\n\u001b[1;32m     <a href='vscode-notebook-cell:/Users/brandon/local_only/milo-pp2/notebooks/encoder_trial.ipynb#ch0000002?line=30'>31</a>\u001b[0m \u001b[39melif\u001b[39;00m (\u001b[39mlen\u001b[39m(col\u001b[39m.\u001b[39munique()) \u001b[39m>\u001b[39m \u001b[39m2\u001b[39m):\n\u001b[0;32m---> <a href='vscode-notebook-cell:/Users/brandon/local_only/milo-pp2/notebooks/encoder_trial.ipynb#ch0000002?line=32'>33</a>\u001b[0m     enc \u001b[39m=\u001b[39m OneHotEncoder(handle_unknown\u001b[39m=\u001b[39m\u001b[39m'\u001b[39m\u001b[39mignore\u001b[39m\u001b[39m'\u001b[39m)\n\u001b[1;32m     <a href='vscode-notebook-cell:/Users/brandon/local_only/milo-pp2/notebooks/encoder_trial.ipynb#ch0000002?line=34'>35</a>\u001b[0m     \u001b[39m#Need 2D vector to do the fit\u001b[39;00m\n\u001b[1;32m     <a href='vscode-notebook-cell:/Users/brandon/local_only/milo-pp2/notebooks/encoder_trial.ipynb#ch0000002?line=35'>36</a>\u001b[0m     vector \u001b[39m=\u001b[39m invalid[col_data[\u001b[39m'\u001b[39m\u001b[39mname\u001b[39m\u001b[39m'\u001b[39m]]\u001b[39m.\u001b[39mvalues\u001b[39m.\u001b[39mreshape(\u001b[39m-\u001b[39m\u001b[39m1\u001b[39m,\u001b[39m1\u001b[39m)\n",
      "\u001b[0;31mNameError\u001b[0m: name 'OneHotEncoder' is not defined"
     ]
    }
   ],
   "source": [
    "valid_data_types = ['int16', 'int32', 'int64', 'float16', 'float32', 'float64', 'bool']\n",
    "\n",
    "valid = df.select_dtypes(include=valid_data_types)\n",
    "\n",
    "invalid = df.drop(columns=valid.columns)\n",
    "fix = pd.DataFrame()\n",
    "\n",
    "#process mixed data types\n",
    "comments = {}\n",
    "\n",
    "for column in invalid.columns:\n",
    "    col = invalid[column]\n",
    "\n",
    "    total_count = col.shape[0]\n",
    "    nan_count = col.isna().sum()\n",
    "\n",
    "    col = col.dropna()\n",
    "    not_nan_count = col.shape[0]\n",
    "\n",
    "    numeric = ~pd.to_numeric(col, errors='coerce').isna()\n",
    "    numeric_count = numeric.sum()\n",
    "\n",
    "    if (numeric_count / total_count) > 0.6:\n",
    "        invalid[column] = pd.to_numeric(col, errors='coerce')\n",
    "        comments[column] = f'More than 0.6 of data is numeric. {nan_count} dropped' \n",
    "    \n",
    "    elif (len(col.unique()) == 2):\n",
    "        mapping = {}\n",
    "        for index, val in enumerate(col.unique()):\n",
    "            mapping[val] = index\n",
    "        invalid[column] = col.map(mapping).astype('int')\n",
    "        comments[column] = f'Two unique values. {str(mapping)}'\n",
    " \n",
    "    elif (len(col.unique()) > 2):\n",
    "        \n",
    "\n",
    "        \n",
    "\n",
    "\n",
    "\n",
    "\n",
    "\n",
    "\n",
    "    \n",
    "\n",
    "\n",
    " "
   ]
  },
  {
   "cell_type": "code",
   "execution_count": null,
   "metadata": {},
   "outputs": [],
   "source": []
  },
  {
   "cell_type": "code",
   "execution_count": null,
   "metadata": {},
   "outputs": [],
   "source": [
    "\n"
   ]
  }
 ],
 "metadata": {
  "interpreter": {
   "hash": "3994d8f11f4f39a460efaeab9ba24b8074d5c4ad96a0bb95817cc6f2628ec683"
  },
  "kernelspec": {
   "display_name": "Python 3.8.3 ('venv': venv)",
   "language": "python",
   "name": "python3"
  },
  "language_info": {
   "codemirror_mode": {
    "name": "ipython",
    "version": 3
   },
   "file_extension": ".py",
   "mimetype": "text/x-python",
   "name": "python",
   "nbconvert_exporter": "python",
   "pygments_lexer": "ipython3",
   "version": "3.8.3"
  }
 },
 "nbformat": 4,
 "nbformat_minor": 4
}
