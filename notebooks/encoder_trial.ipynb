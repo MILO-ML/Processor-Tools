{
 "cells": [
  {
   "cell_type": "code",
   "execution_count": 1,
   "metadata": {},
   "outputs": [],
   "source": [
    "import pandas as pd\n",
    "import numpy as np\n"
   ]
  },
  {
   "cell_type": "code",
   "execution_count": 2,
   "metadata": {},
   "outputs": [],
   "source": [
    "df = pd.read_csv('/Users/brandon/Desktop/dummy_train_column_scan.csv')"
   ]
  },
  {
   "cell_type": "code",
   "execution_count": 58,
   "metadata": {},
   "outputs": [
    {
     "data": {
      "text/plain": [
       "va_a       float64\n",
       "va_b       float64\n",
       "va_c        object\n",
       "cat_a       object\n",
       "cat_b       object\n",
       "outcome       bool\n",
       "dtype: object"
      ]
     },
     "execution_count": 58,
     "metadata": {},
     "output_type": "execute_result"
    }
   ],
   "source": [
    "df.dtypes"
   ]
  },
  {
   "cell_type": "code",
   "execution_count": 83,
   "metadata": {},
   "outputs": [
    {
     "data": {
      "text/plain": [
       "0       NaN\n",
       "1       NaN\n",
       "2       NaN\n",
       "3       NaN\n",
       "4     0.394\n",
       "5     0.906\n",
       "6     0.944\n",
       "7     0.171\n",
       "8     0.596\n",
       "9     0.044\n",
       "10    0.360\n",
       "11    0.941\n",
       "12    0.252\n",
       "13    0.750\n",
       "14    0.061\n",
       "15    0.199\n",
       "16    0.063\n",
       "17    0.916\n",
       "18    0.727\n",
       "19    0.520\n",
       "20    0.324\n",
       "Name: va_c, dtype: float64"
      ]
     },
     "execution_count": 83,
     "metadata": {},
     "output_type": "execute_result"
    }
   ],
   "source": [
    "\n",
    "def clean_mix_column(col):\n",
    "    total_size = col.shape[0]\n",
    "    #convert the column to numeric and replace str with NaN\n",
    "    numeric = pd.to_numeric(col, errors='coerce')\n",
    "    #see how many NaN values there are\n",
    "    nan_bool = numeric.isna()\n",
    "    nans = col[nan_bool]\n",
    "    nans_size = nans.shape[0]\n",
    "    #if there are less than 20% of the total size, we can assume column is numerical\n",
    "    nan_percent = nans_size / total_size\n",
    "    if nan_percent < 0.20:\n",
    "\n",
    "        return numeric\n",
    "    else:\n",
    "        return \n",
    "\n",
    "clean_mix_column(df['va_c'])"
   ]
  },
  {
   "cell_type": "code",
   "execution_count": null,
   "metadata": {},
   "outputs": [],
   "source": [
    "\n"
   ]
  }
 ],
 "metadata": {
  "interpreter": {
   "hash": "3994d8f11f4f39a460efaeab9ba24b8074d5c4ad96a0bb95817cc6f2628ec683"
  },
  "kernelspec": {
   "display_name": "Python 3.8.3 ('venv': venv)",
   "language": "python",
   "name": "python3"
  },
  "language_info": {
   "codemirror_mode": {
    "name": "ipython",
    "version": 3
   },
   "file_extension": ".py",
   "mimetype": "text/x-python",
   "name": "python",
   "nbconvert_exporter": "python",
   "pygments_lexer": "ipython3",
   "version": "3.8.3"
  }
 },
 "nbformat": 4,
 "nbformat_minor": 4
}
