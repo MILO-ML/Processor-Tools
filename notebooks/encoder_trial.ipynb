{
 "cells": [
  {
   "cell_type": "code",
   "execution_count": 91,
   "metadata": {},
   "outputs": [],
   "source": [
    "import pandas as pd\n",
    "import numpy as np\n",
    "from sklearn.preprocessing import OneHotEncoder\n",
    "from sklearn.experimental import enable_iterative_imputer\n",
    "from sklearn.impute import IterativeImputer\n",
    "\n",
    "import tqdm\n",
    "import sys"
   ]
  },
  {
   "cell_type": "code",
   "execution_count": 65,
   "metadata": {},
   "outputs": [],
   "source": [
    "def read_csv(directory, folder, filename):\n",
    "    df = pd.read_csv(directory + folder + filename)\n",
    "    df = df.replace(r'^\\s*$', np.nan, regex=True) #replaces empty strings spacess with NaN\n",
    "    return df"
   ]
  },
  {
   "cell_type": "code",
   "execution_count": 107,
   "metadata": {},
   "outputs": [],
   "source": [
    "directory = '/Volumes/GoogleDrive-114506167238584938104/My Drive/common_test_files/'\n",
    "folder = 'bug_exp/'\n",
    "\n",
    "df = read_csv(directory, folder, 'train-hrt-30%-NaN.csv')\n",
    "\n"
   ]
  },
  {
   "cell_type": "code",
   "execution_count": 135,
   "metadata": {},
   "outputs": [
    {
     "name": "stdout",
     "output_type": "stream",
     "text": [
      "['restecg', 'slope', 'ca', 'thal']\n"
     ]
    }
   ],
   "source": [
    "valid_data_types = ['int16', 'int32', 'int64', 'float16', 'float32', 'float64', 'bool']\n",
    "\n",
    "valid = df.select_dtypes(include=valid_data_types)\n",
    "\n",
    "numeric_one_hot_encoder_columns = []\n",
    "\n",
    "for col in valid.columns:\n",
    "\n",
    "    unique = valid[col].unique()\n",
    "    unique = unique[~np.isnan(unique)] #remove nan\n",
    "    unique_int_len = len(list(filter(lambda x: x.is_integer(), unique))) #checks to ensure values are ints even if cast as float\n",
    "\n",
    "    if len(unique) == unique_int_len and (unique_int_len > 2 and unique_int_len < 6): #set \n",
    "        numeric_one_hot_encoder_columns.append(col)\n",
    "\n",
    "print(numeric_one_hot_encoder_columns)\n",
    "\n",
    "\n",
    "restecg\n",
    "    "
   ]
  },
  {
   "cell_type": "code",
   "execution_count": 139,
   "metadata": {},
   "outputs": [
    {
     "data": {
      "text/plain": [
       "array([nan,  2.,  3.,  0.,  1.])"
      ]
     },
     "execution_count": 139,
     "metadata": {},
     "output_type": "execute_result"
    }
   ],
   "source": [
    "valid['thal'].unique()"
   ]
  },
  {
   "cell_type": "code",
   "execution_count": 67,
   "metadata": {},
   "outputs": [],
   "source": [
    "X = df\n",
    "\n",
    "col_is_binary = []\n",
    "\n",
    "for col in X.columns:\n",
    "    feature = X[col]\n",
    "    \n",
    "    if feature.isna().sum() > 0: #ensure has nan values\n",
    "        values = feature.dropna().unique()\n",
    "        values.sort()\n",
    "        if list(values) == [0,1]:\n",
    "            col_is_binary.append(col)\n",
    "            \n",
    "        "
   ]
  },
  {
   "cell_type": "code",
   "execution_count": 55,
   "metadata": {},
   "outputs": [
    {
     "name": "stdout",
     "output_type": "stream",
     "text": [
      "['sex', 'exang']\n"
     ]
    }
   ],
   "source": [
    "print(col_is_binary)"
   ]
  },
  {
   "cell_type": "code",
   "execution_count": null,
   "metadata": {},
   "outputs": [],
   "source": []
  },
  {
   "cell_type": "code",
   "execution_count": 68,
   "metadata": {},
   "outputs": [],
   "source": [
    "def generate_dataset(rows, columns, percent_missing):\n",
    "\n",
    "    size = rows * columns\n",
    "    goal = round(size * percent_missing / 100)\n",
    "    df = pd.DataFrame(np.random.randint(0,100,size=(rows, columns)))\n",
    "    nan_count = 0\n",
    "    \n",
    "    while nan_count < goal:\n",
    "        r = np.random.randint(0,rows - 1)\n",
    "        c = np.random.randint(0,columns - 1) \n",
    "        df.iat[r,c]=None\n",
    "        \n",
    "        nan_count = df.isna().sum().sum()\n",
    "    \n",
    "    return df"
   ]
  },
  {
   "cell_type": "code",
   "execution_count": 90,
   "metadata": {},
   "outputs": [],
   "source": [
    "df = generate_dataset(100,100,10)\n",
    "\n",
    "\n",
    "\n",
    "#result = \n",
    "\n"
   ]
  },
  {
   "cell_type": "code",
   "execution_count": 96,
   "metadata": {},
   "outputs": [
    {
     "name": "stdout",
     "output_type": "stream",
     "text": [
      "[IterativeImputer] Completing matrix with shape (100, 100)\n",
      "[IterativeImputer] Ending imputation round 1/10, elapsed time 1.38\n",
      "[IterativeImputer] Change: 48.7600451717533, scaled tolerance: 0.099 \n",
      "[IterativeImputer] Ending imputation round 2/10, elapsed time 2.74\n",
      "[IterativeImputer] Change: 5.809198350050295, scaled tolerance: 0.099 \n",
      "[IterativeImputer] Ending imputation round 3/10, elapsed time 4.16\n",
      "[IterativeImputer] Change: 0.44923324067432446, scaled tolerance: 0.099 \n",
      "[IterativeImputer] Ending imputation round 4/10, elapsed time 5.46\n",
      "[IterativeImputer] Change: 0.017835959607644725, scaled tolerance: 0.099 \n",
      "[IterativeImputer] Early stopping criterion reached.\n",
      "<ipykernel.iostream.OutStream object at 0x1042c1a60>\n"
     ]
    }
   ],
   "source": [
    "imp_mean = IterativeImputer(random_state=0, verbose=2)\n",
    "\n",
    "imp_mean.fit_transform(df)\n",
    "# result =  pd.DataFrame(imp_mean.transform(df),columns=df.columns)\n",
    "\n",
    "\n",
    "\n",
    "def test(val):\n",
    "    print(val)\n",
    "print(sys.stdout)"
   ]
  },
  {
   "cell_type": "code",
   "execution_count": 74,
   "metadata": {},
   "outputs": [
    {
     "data": {
      "text/html": [
       "<div>\n",
       "<style scoped>\n",
       "    .dataframe tbody tr th:only-of-type {\n",
       "        vertical-align: middle;\n",
       "    }\n",
       "\n",
       "    .dataframe tbody tr th {\n",
       "        vertical-align: top;\n",
       "    }\n",
       "\n",
       "    .dataframe thead th {\n",
       "        text-align: right;\n",
       "    }\n",
       "</style>\n",
       "<table border=\"1\" class=\"dataframe\">\n",
       "  <thead>\n",
       "    <tr style=\"text-align: right;\">\n",
       "      <th></th>\n",
       "      <th>0</th>\n",
       "      <th>1</th>\n",
       "      <th>2</th>\n",
       "      <th>3</th>\n",
       "      <th>4</th>\n",
       "      <th>5</th>\n",
       "      <th>6</th>\n",
       "      <th>7</th>\n",
       "      <th>8</th>\n",
       "      <th>9</th>\n",
       "    </tr>\n",
       "  </thead>\n",
       "  <tbody>\n",
       "    <tr>\n",
       "      <th>0</th>\n",
       "      <td>63.0</td>\n",
       "      <td>54.0</td>\n",
       "      <td>56.000000</td>\n",
       "      <td>53.0</td>\n",
       "      <td>54.744257</td>\n",
       "      <td>86.000000</td>\n",
       "      <td>31.000000</td>\n",
       "      <td>81.000000</td>\n",
       "      <td>11.0</td>\n",
       "      <td>57.0</td>\n",
       "    </tr>\n",
       "    <tr>\n",
       "      <th>1</th>\n",
       "      <td>98.0</td>\n",
       "      <td>2.0</td>\n",
       "      <td>47.000000</td>\n",
       "      <td>79.0</td>\n",
       "      <td>33.000000</td>\n",
       "      <td>52.704985</td>\n",
       "      <td>24.000000</td>\n",
       "      <td>10.000000</td>\n",
       "      <td>20.0</td>\n",
       "      <td>62.0</td>\n",
       "    </tr>\n",
       "    <tr>\n",
       "      <th>2</th>\n",
       "      <td>13.0</td>\n",
       "      <td>59.0</td>\n",
       "      <td>27.000000</td>\n",
       "      <td>68.0</td>\n",
       "      <td>61.000000</td>\n",
       "      <td>52.680326</td>\n",
       "      <td>40.000000</td>\n",
       "      <td>92.000000</td>\n",
       "      <td>20.0</td>\n",
       "      <td>18.0</td>\n",
       "    </tr>\n",
       "    <tr>\n",
       "      <th>3</th>\n",
       "      <td>61.0</td>\n",
       "      <td>89.0</td>\n",
       "      <td>50.448151</td>\n",
       "      <td>64.0</td>\n",
       "      <td>0.000000</td>\n",
       "      <td>32.000000</td>\n",
       "      <td>49.181197</td>\n",
       "      <td>19.000000</td>\n",
       "      <td>4.0</td>\n",
       "      <td>2.0</td>\n",
       "    </tr>\n",
       "    <tr>\n",
       "      <th>4</th>\n",
       "      <td>21.0</td>\n",
       "      <td>30.0</td>\n",
       "      <td>50.497895</td>\n",
       "      <td>85.0</td>\n",
       "      <td>39.000000</td>\n",
       "      <td>86.000000</td>\n",
       "      <td>3.000000</td>\n",
       "      <td>30.000000</td>\n",
       "      <td>72.0</td>\n",
       "      <td>62.0</td>\n",
       "    </tr>\n",
       "    <tr>\n",
       "      <th>...</th>\n",
       "      <td>...</td>\n",
       "      <td>...</td>\n",
       "      <td>...</td>\n",
       "      <td>...</td>\n",
       "      <td>...</td>\n",
       "      <td>...</td>\n",
       "      <td>...</td>\n",
       "      <td>...</td>\n",
       "      <td>...</td>\n",
       "      <td>...</td>\n",
       "    </tr>\n",
       "    <tr>\n",
       "      <th>95</th>\n",
       "      <td>36.0</td>\n",
       "      <td>37.0</td>\n",
       "      <td>74.000000</td>\n",
       "      <td>2.0</td>\n",
       "      <td>26.000000</td>\n",
       "      <td>72.000000</td>\n",
       "      <td>49.140118</td>\n",
       "      <td>52.548476</td>\n",
       "      <td>29.0</td>\n",
       "      <td>0.0</td>\n",
       "    </tr>\n",
       "    <tr>\n",
       "      <th>96</th>\n",
       "      <td>9.0</td>\n",
       "      <td>99.0</td>\n",
       "      <td>10.000000</td>\n",
       "      <td>0.0</td>\n",
       "      <td>92.000000</td>\n",
       "      <td>69.000000</td>\n",
       "      <td>15.000000</td>\n",
       "      <td>13.000000</td>\n",
       "      <td>3.0</td>\n",
       "      <td>14.0</td>\n",
       "    </tr>\n",
       "    <tr>\n",
       "      <th>97</th>\n",
       "      <td>13.0</td>\n",
       "      <td>72.0</td>\n",
       "      <td>78.000000</td>\n",
       "      <td>2.0</td>\n",
       "      <td>6.000000</td>\n",
       "      <td>28.000000</td>\n",
       "      <td>49.159768</td>\n",
       "      <td>45.000000</td>\n",
       "      <td>66.0</td>\n",
       "      <td>16.0</td>\n",
       "    </tr>\n",
       "    <tr>\n",
       "      <th>98</th>\n",
       "      <td>55.0</td>\n",
       "      <td>92.0</td>\n",
       "      <td>32.000000</td>\n",
       "      <td>0.0</td>\n",
       "      <td>72.000000</td>\n",
       "      <td>49.000000</td>\n",
       "      <td>43.000000</td>\n",
       "      <td>53.000000</td>\n",
       "      <td>47.0</td>\n",
       "      <td>44.0</td>\n",
       "    </tr>\n",
       "    <tr>\n",
       "      <th>99</th>\n",
       "      <td>97.0</td>\n",
       "      <td>51.0</td>\n",
       "      <td>91.000000</td>\n",
       "      <td>45.0</td>\n",
       "      <td>67.000000</td>\n",
       "      <td>94.000000</td>\n",
       "      <td>28.000000</td>\n",
       "      <td>42.000000</td>\n",
       "      <td>89.0</td>\n",
       "      <td>57.0</td>\n",
       "    </tr>\n",
       "  </tbody>\n",
       "</table>\n",
       "<p>100 rows × 10 columns</p>\n",
       "</div>"
      ],
      "text/plain": [
       "       0     1          2     3          4          5          6          7  \\\n",
       "0   63.0  54.0  56.000000  53.0  54.744257  86.000000  31.000000  81.000000   \n",
       "1   98.0   2.0  47.000000  79.0  33.000000  52.704985  24.000000  10.000000   \n",
       "2   13.0  59.0  27.000000  68.0  61.000000  52.680326  40.000000  92.000000   \n",
       "3   61.0  89.0  50.448151  64.0   0.000000  32.000000  49.181197  19.000000   \n",
       "4   21.0  30.0  50.497895  85.0  39.000000  86.000000   3.000000  30.000000   \n",
       "..   ...   ...        ...   ...        ...        ...        ...        ...   \n",
       "95  36.0  37.0  74.000000   2.0  26.000000  72.000000  49.140118  52.548476   \n",
       "96   9.0  99.0  10.000000   0.0  92.000000  69.000000  15.000000  13.000000   \n",
       "97  13.0  72.0  78.000000   2.0   6.000000  28.000000  49.159768  45.000000   \n",
       "98  55.0  92.0  32.000000   0.0  72.000000  49.000000  43.000000  53.000000   \n",
       "99  97.0  51.0  91.000000  45.0  67.000000  94.000000  28.000000  42.000000   \n",
       "\n",
       "       8     9  \n",
       "0   11.0  57.0  \n",
       "1   20.0  62.0  \n",
       "2   20.0  18.0  \n",
       "3    4.0   2.0  \n",
       "4   72.0  62.0  \n",
       "..   ...   ...  \n",
       "95  29.0   0.0  \n",
       "96   3.0  14.0  \n",
       "97  66.0  16.0  \n",
       "98  47.0  44.0  \n",
       "99  89.0  57.0  \n",
       "\n",
       "[100 rows x 10 columns]"
      ]
     },
     "execution_count": 74,
     "metadata": {},
     "output_type": "execute_result"
    }
   ],
   "source": [
    "result"
   ]
  },
  {
   "cell_type": "code",
   "execution_count": null,
   "metadata": {},
   "outputs": [],
   "source": []
  },
  {
   "cell_type": "code",
   "execution_count": null,
   "metadata": {},
   "outputs": [],
   "source": []
  },
  {
   "cell_type": "code",
   "execution_count": null,
   "metadata": {},
   "outputs": [],
   "source": []
  }
 ],
 "metadata": {
  "interpreter": {
   "hash": "3994d8f11f4f39a460efaeab9ba24b8074d5c4ad96a0bb95817cc6f2628ec683"
  },
  "kernelspec": {
   "display_name": "Python 3 (ipykernel)",
   "language": "python",
   "name": "python3"
  },
  "language_info": {
   "codemirror_mode": {
    "name": "ipython",
    "version": 3
   },
   "file_extension": ".py",
   "mimetype": "text/x-python",
   "name": "python",
   "nbconvert_exporter": "python",
   "pygments_lexer": "ipython3",
   "version": "3.9.13"
  }
 },
 "nbformat": 4,
 "nbformat_minor": 4
}
