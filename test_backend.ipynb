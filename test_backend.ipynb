{
 "cells": [
  {
   "cell_type": "code",
   "execution_count": 14,
   "metadata": {},
   "outputs": [],
   "source": [
    "import pandas as pd\n",
    "import numpy as np\n",
    "import ast"
   ]
  },
  {
   "cell_type": "code",
   "execution_count": 15,
   "metadata": {},
   "outputs": [],
   "source": [
    "df = pd.read_csv('/Volumes/2021.03.07.research_files.nosync/Systhetic-TBx1-MILO-results.csv')"
   ]
  },
  {
   "cell_type": "code",
   "execution_count": 3,
   "metadata": {},
   "outputs": [],
   "source": [
    "\n",
    "df['selected_features'] = df['selected_features'].apply(lambda x: sorted(x.replace(\" \",\"\").replace(\"'\",\"\")[1:-1].split(',')))\n",
    "df['length'] = df['selected_features'].apply(lambda x: len(x))\n",
    "df['selected_features'] = df['selected_features'].apply(lambda x: str(x))\n",
    "df['selected_features'] = df['selected_features'].apply(lambda x: x.replace(\"'\", '\"'))\n",
    "df_red = df[['feature_selector', 'selected_features', 'length']]"
   ]
  },
  {
   "cell_type": "code",
   "execution_count": 4,
   "metadata": {},
   "outputs": [],
   "source": [
    "test = df_red[df_red['length'] < df_red.length.max()]"
   ]
  },
  {
   "cell_type": "code",
   "execution_count": 5,
   "metadata": {},
   "outputs": [],
   "source": [
    "result = test.drop_duplicates().sort_values(by='feature_selector').set_index('feature_selector')"
   ]
  },
  {
   "cell_type": "code",
   "execution_count": 6,
   "metadata": {},
   "outputs": [],
   "source": [
    "final = result[~result.index.duplicated()]"
   ]
  },
  {
   "cell_type": "code",
   "execution_count": 7,
   "metadata": {},
   "outputs": [
    {
     "data": {
      "text/plain": [
       "'[\"Ag85b\", \"CFP10\", \"HN878\", \"Rv0831\", \"Rv1566c\", \"Rv3619\", \"Rv3873\"]'"
      ]
     },
     "execution_count": 7,
     "metadata": {},
     "output_type": "execute_result"
    }
   ],
   "source": [
    "final.iloc[0]['selected_features']"
   ]
  },
  {
   "cell_type": "code",
   "execution_count": 217,
   "metadata": {},
   "outputs": [],
   "source": []
  },
  {
   "cell_type": "code",
   "execution_count": 9,
   "metadata": {},
   "outputs": [],
   "source": [
    "exp = pd.read_csv('/Volumes/2021.03.07.research_files.nosync/test_files/train.csv')"
   ]
  },
  {
   "cell_type": "code",
   "execution_count": 11,
   "metadata": {},
   "outputs": [],
   "source": [
    "columns = ['feature1','feature2','target']"
   ]
  },
  {
   "cell_type": "code",
   "execution_count": 15,
   "metadata": {},
   "outputs": [],
   "source": [
    "exp[columns].to_csv('file.csv', index=False)"
   ]
  },
  {
   "cell_type": "code",
   "execution_count": 1,
   "metadata": {},
   "outputs": [],
   "source": [
    "from tinydb import TinyDB, Query\n",
    "db = TinyDB('db.json')"
   ]
  },
  {
   "cell_type": "code",
   "execution_count": 2,
   "metadata": {},
   "outputs": [
    {
     "data": {
      "text/plain": [
       "1"
      ]
     },
     "execution_count": 2,
     "metadata": {},
     "output_type": "execute_result"
    }
   ],
   "source": [
    "db.insert({'type': 'apple', 'count': 7})"
   ]
  },
  {
   "cell_type": "code",
   "execution_count": 3,
   "metadata": {},
   "outputs": [
    {
     "data": {
      "text/plain": [
       "<TinyDB tables=['_default'], tables_count=1, default_table_documents_count=1, all_tables_documents_count=['_default=1']>"
      ]
     },
     "execution_count": 3,
     "metadata": {},
     "output_type": "execute_result"
    }
   ],
   "source": [
    "db"
   ]
  },
  {
   "cell_type": "code",
   "execution_count": 6,
   "metadata": {},
   "outputs": [
    {
     "data": {
      "text/plain": [
       "[{'type': 'apple', 'count': 7}]"
      ]
     },
     "execution_count": 6,
     "metadata": {},
     "output_type": "execute_result"
    }
   ],
   "source": [
    "Fruit = Query()\n",
    "db.search(Fruit.type == 'apple')"
   ]
  },
  {
   "cell_type": "code",
   "execution_count": 5,
   "metadata": {},
   "outputs": [
    {
     "data": {
      "text/plain": [
       "Query()"
      ]
     },
     "execution_count": 5,
     "metadata": {},
     "output_type": "execute_result"
    }
   ],
   "source": [
    "\n",
    "\n",
    "db.insert({\n",
    "    'storage_id': storage_id\n",
    "    'file_name':  file_name\n",
    "    'file_type': file_type\n",
    "})"
   ]
  },
  {
   "cell_type": "code",
   "execution_count": 10,
   "metadata": {},
   "outputs": [],
   "source": [
    "from datetime import datetime"
   ]
  },
  {
   "cell_type": "code",
   "execution_count": 22,
   "metadata": {},
   "outputs": [
    {
     "data": {
      "text/plain": [
       "['key',\n",
       " 'scaler',\n",
       " 'feature_selector',\n",
       " 'algorithm',\n",
       " 'searcher',\n",
       " 'scorer',\n",
       " 'accuracy',\n",
       " 'acc_95_ci',\n",
       " 'avg_sn_sp',\n",
       " 'roc_auc',\n",
       " 'roc_auc_95_ci',\n",
       " 'f1',\n",
       " 'sensitivity',\n",
       " 'sn_95_ci',\n",
       " 'specificity',\n",
       " 'sp_95_ci',\n",
       " 'prevalence',\n",
       " 'pr_95_ci',\n",
       " 'ppv',\n",
       " 'npv',\n",
       " 'tn',\n",
       " 'tp',\n",
       " 'fn',\n",
       " 'fp',\n",
       " 'selected_features',\n",
       " 'best_params',\n",
       " 'test_fpr',\n",
       " 'test_tpr',\n",
       " 'generalization_fpr',\n",
       " 'generalization_tpr',\n",
       " 'brier_score',\n",
       " 'fop',\n",
       " 'mpv']"
      ]
     },
     "execution_count": 22,
     "metadata": {},
     "output_type": "execute_result"
    }
   ],
   "source": []
  },
  {
   "cell_type": "code",
   "execution_count": null,
   "metadata": {},
   "outputs": [],
   "source": []
  }
 ],
 "metadata": {
  "kernelspec": {
   "display_name": "Python 3",
   "language": "python",
   "name": "python3"
  },
  "language_info": {
   "codemirror_mode": {
    "name": "ipython",
    "version": 3
   },
   "file_extension": ".py",
   "mimetype": "text/x-python",
   "name": "python",
   "nbconvert_exporter": "python",
   "pygments_lexer": "ipython3",
   "version": "3.8.3"
  }
 },
 "nbformat": 4,
 "nbformat_minor": 4
}
