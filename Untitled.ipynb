{
 "cells": [
  {
   "cell_type": "code",
   "execution_count": 1,
   "metadata": {},
   "outputs": [],
   "source": [
    "import pandas as pd\n",
    "import numpy as np\n",
    "import matplotlib.pyplot as plt\n",
    "import seaborn as sns\n",
    "from sklearn.model_selection import cross_val_score\n",
    "import json\n",
    "%matplotlib inline"
   ]
  },
  {
   "cell_type": "code",
   "execution_count": 14,
   "metadata": {},
   "outputs": [],
   "source": [
    "file = '/Volumes/researchFiles/amz_files/A_TBvsHealthy-synthetic.csv'"
   ]
  },
  {
   "cell_type": "code",
   "execution_count": 15,
   "metadata": {},
   "outputs": [],
   "source": [
    "df = pd.read_csv(file)\n",
    "target = 'TB-31S'"
   ]
  },
  {
   "cell_type": "code",
   "execution_count": 16,
   "metadata": {},
   "outputs": [],
   "source": [
    "from sklearn.feature_selection import f_classif\n",
    "\n",
    "# Splitting the dataset into the Training set and Test set\n",
    "from sklearn.model_selection import train_test_split"
   ]
  },
  {
   "cell_type": "code",
   "execution_count": 24,
   "metadata": {},
   "outputs": [],
   "source": [
    "X = df.drop(columns=[target])\n",
    "y = df[target]\n",
    "\n",
    "feature_names = X.columns"
   ]
  },
  {
   "cell_type": "code",
   "execution_count": 25,
   "metadata": {},
   "outputs": [],
   "source": [
    "X_train, X_test, y_train, y_test = train_test_split(X, y, test_size = 0.2, random_state = 5, \n",
    "                                                    stratify=y)"
   ]
  },
  {
   "cell_type": "code",
   "execution_count": 30,
   "metadata": {},
   "outputs": [
    {
     "name": "stdout",
     "output_type": "stream",
     "text": [
      "{' Rv2220 ': 7.231002227848128, ' HSPX  ': 5.623669043855444, ' HN878  ': 3.9204961436399484, ' Rv1677 ': 2.132717300457403, ' Rv0831 ': 1.7554547231789959, 'CFP10  ': 1.7066234074527218, ' CDC1551  ': 1.6821417369391383, ' Rv3873 ': 1.6545229958211638, ' Rv0934': 1.5363341032904412, 'Rv3875': 1.4440772620642663, ' Rv0054 ': 1.4368886118976958, ' Rv2878c  ': 1.273113479798392, ' Rv3507 ': 1.0670000199945266, ' Rv3619  ': 0.9849816894062233, ' Rv2875 ': 0.8683640210552909, ' Rv1860': 0.6709809419638857, ' Rv1566c ': 0.5549841879814382, ' Ag85b ': 0.37589893923219286, 'Rv3418c ': 0.28157207581549654, ' Rv1009 ': 0.17733062803771898, 'Rv3874-Rv3875': 0.17037494376787007, 'Rv0129c ': 0.1286464895681752, ' Rv1984 ': 0.1265374379636035, ' Rv3841': 0.06301719808362977, ' Rv1980 ': 0.05637095260704626, ' Rv1099 ': 0.054076085300697116, ' Rv3881  ': 0.02914805966551874, ' H37Rv ': 0.02521446742999385, '  Rv1926c ': 0.018278930000805684, 'Rv3804c ': 0.0078108979373165376, ' Rv2032 ': 0.002813953249473437}\n"
     ]
    }
   ],
   "source": [
    "threshold = 10 # the number of most relevant features\n",
    "\n",
    "high_score_features = []\n",
    "\n",
    "feature_scores = f_classif(X_train, y_train)[0]\n",
    "\n",
    "output = {}\n",
    "\n",
    "for score, f_name in sorted(zip(feature_scores, feature_names), reverse=True):\n",
    "    output[f_name] = score\n",
    "\n",
    "print(output)\n",
    "\n",
    "\n"
   ]
  },
  {
   "cell_type": "code",
   "execution_count": null,
   "metadata": {},
   "outputs": [],
   "source": []
  }
 ],
 "metadata": {
  "kernelspec": {
   "display_name": "Python 3",
   "language": "python",
   "name": "python3"
  },
  "language_info": {
   "codemirror_mode": {
    "name": "ipython",
    "version": 3
   },
   "file_extension": ".py",
   "mimetype": "text/x-python",
   "name": "python",
   "nbconvert_exporter": "python",
   "pygments_lexer": "ipython3",
   "version": "3.8.3"
  }
 },
 "nbformat": 4,
 "nbformat_minor": 4
}
