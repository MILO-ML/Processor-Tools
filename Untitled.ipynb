{
 "cells": [
  {
   "cell_type": "code",
   "execution_count": 2,
   "metadata": {},
   "outputs": [],
   "source": [
    "import pandas as pd\n",
    "import numpy as np\n",
    "import matplotlib.pyplot as plt\n",
    "import seaborn as sns\n",
    "from sklearn.model_selection import cross_val_score\n",
    "import json\n",
    "%matplotlib inline"
   ]
  },
  {
   "cell_type": "code",
   "execution_count": 3,
   "metadata": {},
   "outputs": [],
   "source": [
    "file = '/Volumes/researchFiles/amz_files/A_TBvsHealthy-synthetic.csv'"
   ]
  },
  {
   "cell_type": "code",
   "execution_count": 4,
   "metadata": {},
   "outputs": [],
   "source": [
    "df = pd.read_csv(file)\n",
    "target = 'TB-31S'"
   ]
  },
  {
   "cell_type": "code",
   "execution_count": 5,
   "metadata": {},
   "outputs": [],
   "source": [
    "from sklearn.feature_selection import f_classif\n",
    "\n",
    "# Splitting the dataset into the Training set and Test set\n",
    "from sklearn.model_selection import train_test_split\n",
    "\n",
    "from sklearn.ensemble import RandomForestClassifier"
   ]
  },
  {
   "cell_type": "code",
   "execution_count": 6,
   "metadata": {},
   "outputs": [],
   "source": [
    "X = df.drop(columns=[target])\n",
    "y = df[target]\n",
    "\n",
    "feature_names = X.columns"
   ]
  },
  {
   "cell_type": "code",
   "execution_count": 7,
   "metadata": {},
   "outputs": [],
   "source": [
    "X_train, X_test, y_train, y_test = train_test_split(X, y, test_size = 0.2, random_state = 5, \n",
    "                                                    stratify=y)"
   ]
  },
  {
   "cell_type": "code",
   "execution_count": 17,
   "metadata": {},
   "outputs": [
    {
     "name": "stdout",
     "output_type": "stream",
     "text": [
      "{' Rv2220 ': 7.231002227848128, ' HSPX  ': 5.623669043855444, ' HN878  ': 3.9204961436399484, ' Rv1677 ': 2.132717300457403, ' Rv0831 ': 1.7554547231789959, 'CFP10  ': 1.7066234074527218, ' CDC1551  ': 1.6821417369391383, ' Rv3873 ': 1.6545229958211638, ' Rv0934': 1.5363341032904412, 'Rv3875': 1.4440772620642663, ' Rv0054 ': 1.4368886118976958, ' Rv2878c  ': 1.273113479798392, ' Rv3507 ': 1.0670000199945266, ' Rv3619  ': 0.9849816894062233, ' Rv2875 ': 0.8683640210552909, ' Rv1860': 0.6709809419638857, ' Rv1566c ': 0.5549841879814382, ' Ag85b ': 0.37589893923219286, 'Rv3418c ': 0.28157207581549654, ' Rv1009 ': 0.17733062803771898, 'Rv3874-Rv3875': 0.17037494376787007, 'Rv0129c ': 0.1286464895681752, ' Rv1984 ': 0.1265374379636035, ' Rv3841': 0.06301719808362977, ' Rv1980 ': 0.05637095260704626, ' Rv1099 ': 0.054076085300697116, ' Rv3881  ': 0.02914805966551874, ' H37Rv ': 0.02521446742999385, '  Rv1926c ': 0.018278930000805684, 'Rv3804c ': 0.0078108979373165376, ' Rv2032 ': 0.002813953249473437}\n"
     ]
    }
   ],
   "source": [
    "threshold = 10 # the number of most relevant features\n",
    "\n",
    "high_score_features = []\n",
    "\n",
    "feature_scores = f_classif(X_train, y_train)[0]\n",
    "\n",
    "output_select_percentile = {}\n",
    "\n",
    "for score, f_name in sorted(zip(feature_scores, feature_names), reverse=True):\n",
    "    output_select_percentile[f_name] = score\n",
    "\n",
    "print(output_select_percentile)\n",
    "\n",
    "\n"
   ]
  },
  {
   "cell_type": "code",
   "execution_count": 9,
   "metadata": {},
   "outputs": [],
   "source": [
    "forest = RandomForestClassifier(random_state=0)\n",
    "rf_best = forest.fit(X_train, y_train)"
   ]
  },
  {
   "cell_type": "code",
   "execution_count": 12,
   "metadata": {},
   "outputs": [],
   "source": [
    "other = {}\n",
    "for score, f_name in sorted(zip(rf_best.feature_importances_, feature_names), reverse=True):\n",
    "    other[f_name] = score\n",
    "\n"
   ]
  },
  {
   "cell_type": "code",
   "execution_count": 13,
   "metadata": {},
   "outputs": [
    {
     "data": {
      "text/plain": [
       "{' Rv3619  ': 0.050333491008164505,\n",
       " ' Rv1677 ': 0.045960161257904274,\n",
       " ' Rv2220 ': 0.0421126131900388,\n",
       " 'CFP10  ': 0.04042170076663907,\n",
       " ' Rv1009 ': 0.037050168802884996,\n",
       " ' Rv1980 ': 0.03633712077023219,\n",
       " ' Rv3841': 0.035510893077388084,\n",
       " ' Rv3881  ': 0.03457635688939512,\n",
       " ' Rv2032 ': 0.034562622104689134,\n",
       " ' Rv0934': 0.03391817034468528,\n",
       " 'Rv3875': 0.033576282194634606,\n",
       " ' Rv3507 ': 0.03337231701338082,\n",
       " ' Rv0831 ': 0.03240968041319463,\n",
       " '  Rv1926c ': 0.03215949409978943,\n",
       " ' Rv1860': 0.03208809720321936,\n",
       " 'Rv3418c ': 0.031769539341714115,\n",
       " ' Rv0054 ': 0.030218180871989048,\n",
       " ' Rv1566c ': 0.030199299099671843,\n",
       " ' Rv1984 ': 0.030177691456357895,\n",
       " 'Rv3874-Rv3875': 0.030149405765801208,\n",
       " ' Rv3873 ': 0.02937760434005102,\n",
       " ' Ag85b ': 0.029330448537368964,\n",
       " ' HN878  ': 0.029209114622513983,\n",
       " ' Rv1099 ': 0.028206411063614482,\n",
       " ' Rv2875 ': 0.02746306314249112,\n",
       " ' HSPX  ': 0.02737278690672673,\n",
       " ' CDC1551  ': 0.02557768678550411,\n",
       " ' H37Rv ': 0.025255369847796857,\n",
       " 'Rv3804c ': 0.024628263719469533,\n",
       " ' Rv2878c  ': 0.02392201233124112,\n",
       " 'Rv0129c ': 0.02275395303144769}"
      ]
     },
     "execution_count": 13,
     "metadata": {},
     "output_type": "execute_result"
    }
   ],
   "source": [
    "other"
   ]
  },
  {
   "cell_type": "code",
   "execution_count": 16,
   "metadata": {},
   "outputs": [
    {
     "data": {
      "text/plain": [
       "1.0"
      ]
     },
     "execution_count": 16,
     "metadata": {},
     "output_type": "execute_result"
    }
   ],
   "source": []
  },
  {
   "cell_type": "code",
   "execution_count": 18,
   "metadata": {},
   "outputs": [],
   "source": [
    "from sklearn.feature_selection import SelectPercentile\n"
   ]
  },
  {
   "cell_type": "code",
   "execution_count": 36,
   "metadata": {},
   "outputs": [],
   "source": [
    "model = SelectPercentile(percentile=51)\n",
    "X_new = model.fit_transform(X_train, y_train)"
   ]
  },
  {
   "cell_type": "code",
   "execution_count": 37,
   "metadata": {},
   "outputs": [
    {
     "data": {
      "text/plain": [
       "Index([' Rv0934', ' HSPX  ', ' Rv1860', 'CFP10  ', ' Rv2875 ', ' HN878  ',\n",
       "       ' CDC1551  ', ' Rv3507 ', 'Rv3875', ' Rv2878c  ', ' Rv3619  ',\n",
       "       ' Rv1677 ', ' Rv2220 ', ' Rv3873 ', ' Rv0054 ', ' Rv0831 '],\n",
       "      dtype='object')"
      ]
     },
     "execution_count": 37,
     "metadata": {},
     "output_type": "execute_result"
    }
   ],
   "source": [
    "X_train.columns[model.get_support()]"
   ]
  },
  {
   "cell_type": "code",
   "execution_count": 33,
   "metadata": {},
   "outputs": [
    {
     "data": {
      "text/plain": [
       "15.5"
      ]
     },
     "execution_count": 33,
     "metadata": {},
     "output_type": "execute_result"
    }
   ],
   "source": []
  },
  {
   "cell_type": "code",
   "execution_count": 38,
   "metadata": {},
   "outputs": [],
   "source": []
  },
  {
   "cell_type": "code",
   "execution_count": 39,
   "metadata": {},
   "outputs": [
    {
     "data": {
      "text/html": [
       "<div>\n",
       "<style scoped>\n",
       "    .dataframe tbody tr th:only-of-type {\n",
       "        vertical-align: middle;\n",
       "    }\n",
       "\n",
       "    .dataframe tbody tr th {\n",
       "        vertical-align: top;\n",
       "    }\n",
       "\n",
       "    .dataframe thead th {\n",
       "        text-align: right;\n",
       "    }\n",
       "</style>\n",
       "<table border=\"1\" class=\"dataframe\">\n",
       "  <thead>\n",
       "    <tr style=\"text-align: right;\">\n",
       "      <th></th>\n",
       "      <th>0</th>\n",
       "      <th>1</th>\n",
       "      <th>2</th>\n",
       "      <th>3</th>\n",
       "    </tr>\n",
       "  </thead>\n",
       "  <tbody>\n",
       "    <tr>\n",
       "      <th>0</th>\n",
       "      <td>80</td>\n",
       "      <td>24</td>\n",
       "      <td>57</td>\n",
       "      <td>25</td>\n",
       "    </tr>\n",
       "    <tr>\n",
       "      <th>1</th>\n",
       "      <td>8</td>\n",
       "      <td>25</td>\n",
       "      <td>23</td>\n",
       "      <td>39</td>\n",
       "    </tr>\n",
       "    <tr>\n",
       "      <th>2</th>\n",
       "      <td>14</td>\n",
       "      <td>51</td>\n",
       "      <td>9</td>\n",
       "      <td>95</td>\n",
       "    </tr>\n",
       "    <tr>\n",
       "      <th>3</th>\n",
       "      <td>88</td>\n",
       "      <td>0</td>\n",
       "      <td>70</td>\n",
       "      <td>87</td>\n",
       "    </tr>\n",
       "    <tr>\n",
       "      <th>4</th>\n",
       "      <td>6</td>\n",
       "      <td>18</td>\n",
       "      <td>9</td>\n",
       "      <td>69</td>\n",
       "    </tr>\n",
       "    <tr>\n",
       "      <th>5</th>\n",
       "      <td>95</td>\n",
       "      <td>79</td>\n",
       "      <td>54</td>\n",
       "      <td>56</td>\n",
       "    </tr>\n",
       "    <tr>\n",
       "      <th>6</th>\n",
       "      <td>31</td>\n",
       "      <td>3</td>\n",
       "      <td>74</td>\n",
       "      <td>63</td>\n",
       "    </tr>\n",
       "    <tr>\n",
       "      <th>7</th>\n",
       "      <td>67</td>\n",
       "      <td>50</td>\n",
       "      <td>12</td>\n",
       "      <td>82</td>\n",
       "    </tr>\n",
       "    <tr>\n",
       "      <th>8</th>\n",
       "      <td>16</td>\n",
       "      <td>46</td>\n",
       "      <td>90</td>\n",
       "      <td>60</td>\n",
       "    </tr>\n",
       "    <tr>\n",
       "      <th>9</th>\n",
       "      <td>0</td>\n",
       "      <td>88</td>\n",
       "      <td>90</td>\n",
       "      <td>40</td>\n",
       "    </tr>\n",
       "    <tr>\n",
       "      <th>10</th>\n",
       "      <td>69</td>\n",
       "      <td>64</td>\n",
       "      <td>97</td>\n",
       "      <td>34</td>\n",
       "    </tr>\n",
       "    <tr>\n",
       "      <th>11</th>\n",
       "      <td>28</td>\n",
       "      <td>47</td>\n",
       "      <td>15</td>\n",
       "      <td>48</td>\n",
       "    </tr>\n",
       "    <tr>\n",
       "      <th>12</th>\n",
       "      <td>1</td>\n",
       "      <td>66</td>\n",
       "      <td>39</td>\n",
       "      <td>90</td>\n",
       "    </tr>\n",
       "    <tr>\n",
       "      <th>13</th>\n",
       "      <td>60</td>\n",
       "      <td>22</td>\n",
       "      <td>85</td>\n",
       "      <td>13</td>\n",
       "    </tr>\n",
       "    <tr>\n",
       "      <th>14</th>\n",
       "      <td>16</td>\n",
       "      <td>37</td>\n",
       "      <td>42</td>\n",
       "      <td>41</td>\n",
       "    </tr>\n",
       "  </tbody>\n",
       "</table>\n",
       "</div>"
      ],
      "text/plain": [
       "     0   1   2   3\n",
       "0   80  24  57  25\n",
       "1    8  25  23  39\n",
       "2   14  51   9  95\n",
       "3   88   0  70  87\n",
       "4    6  18   9  69\n",
       "5   95  79  54  56\n",
       "6   31   3  74  63\n",
       "7   67  50  12  82\n",
       "8   16  46  90  60\n",
       "9    0  88  90  40\n",
       "10  69  64  97  34\n",
       "11  28  47  15  48\n",
       "12   1  66  39  90\n",
       "13  60  22  85  13\n",
       "14  16  37  42  41"
      ]
     },
     "execution_count": 39,
     "metadata": {},
     "output_type": "execute_result"
    }
   ],
   "source": [
    "df"
   ]
  },
  {
   "cell_type": "code",
   "execution_count": null,
   "metadata": {},
   "outputs": [],
   "source": []
  }
 ],
 "metadata": {
  "kernelspec": {
   "display_name": "Python 3",
   "language": "python",
   "name": "python3"
  },
  "language_info": {
   "codemirror_mode": {
    "name": "ipython",
    "version": 3
   },
   "file_extension": ".py",
   "mimetype": "text/x-python",
   "name": "python",
   "nbconvert_exporter": "python",
   "pygments_lexer": "ipython3",
   "version": "3.8.3"
  }
 },
 "nbformat": 4,
 "nbformat_minor": 4
}
