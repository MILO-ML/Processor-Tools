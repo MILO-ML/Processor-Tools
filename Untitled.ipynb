{
 "cells": [
  {
   "cell_type": "code",
   "execution_count": 2,
   "metadata": {},
   "outputs": [],
   "source": [
    "import pandas as pd\n",
    "import numpy as np\n",
    "import matplotlib.pyplot as plt\n",
    "import seaborn as sns\n",
    "from sklearn.model_selection import cross_val_score\n",
    "import json\n",
    "%matplotlib inline"
   ]
  },
  {
   "cell_type": "code",
   "execution_count": 3,
   "metadata": {},
   "outputs": [],
   "source": [
    "file = '/Volumes/researchFiles/amz_files/A_TBvsHealthy-synthetic.csv'"
   ]
  },
  {
   "cell_type": "code",
   "execution_count": 4,
   "metadata": {},
   "outputs": [],
   "source": [
    "df = pd.read_csv(file)\n",
    "target = 'TB-31S'"
   ]
  },
  {
   "cell_type": "code",
   "execution_count": 5,
   "metadata": {},
   "outputs": [],
   "source": [
    "from sklearn.feature_selection import f_classif\n",
    "\n",
    "# Splitting the dataset into the Training set and Test set\n",
    "from sklearn.model_selection import train_test_split\n",
    "\n",
    "from sklearn.ensemble import RandomForestClassifier"
   ]
  },
  {
   "cell_type": "code",
   "execution_count": 6,
   "metadata": {},
   "outputs": [],
   "source": [
    "X = df.drop(columns=[target])\n",
    "y = df[target]\n",
    "\n",
    "feature_names = X.columns"
   ]
  },
  {
   "cell_type": "code",
   "execution_count": 7,
   "metadata": {},
   "outputs": [],
   "source": [
    "X_train, X_test, y_train, y_test = train_test_split(X, y, test_size = 0.2, random_state = 5, \n",
    "                                                    stratify=y)"
   ]
  },
  {
   "cell_type": "code",
   "execution_count": 17,
   "metadata": {},
   "outputs": [
    {
     "name": "stdout",
     "output_type": "stream",
     "text": [
      "{' Rv2220 ': 7.231002227848128, ' HSPX  ': 5.623669043855444, ' HN878  ': 3.9204961436399484, ' Rv1677 ': 2.132717300457403, ' Rv0831 ': 1.7554547231789959, 'CFP10  ': 1.7066234074527218, ' CDC1551  ': 1.6821417369391383, ' Rv3873 ': 1.6545229958211638, ' Rv0934': 1.5363341032904412, 'Rv3875': 1.4440772620642663, ' Rv0054 ': 1.4368886118976958, ' Rv2878c  ': 1.273113479798392, ' Rv3507 ': 1.0670000199945266, ' Rv3619  ': 0.9849816894062233, ' Rv2875 ': 0.8683640210552909, ' Rv1860': 0.6709809419638857, ' Rv1566c ': 0.5549841879814382, ' Ag85b ': 0.37589893923219286, 'Rv3418c ': 0.28157207581549654, ' Rv1009 ': 0.17733062803771898, 'Rv3874-Rv3875': 0.17037494376787007, 'Rv0129c ': 0.1286464895681752, ' Rv1984 ': 0.1265374379636035, ' Rv3841': 0.06301719808362977, ' Rv1980 ': 0.05637095260704626, ' Rv1099 ': 0.054076085300697116, ' Rv3881  ': 0.02914805966551874, ' H37Rv ': 0.02521446742999385, '  Rv1926c ': 0.018278930000805684, 'Rv3804c ': 0.0078108979373165376, ' Rv2032 ': 0.002813953249473437}\n"
     ]
    }
   ],
   "source": [
    "threshold = 10 # the number of most relevant features\n",
    "\n",
    "high_score_features = []\n",
    "\n",
    "feature_scores = f_classif(X_train, y_train)[0]\n",
    "\n",
    "output_select_percentile = {}\n",
    "\n",
    "for score, f_name in sorted(zip(feature_scores, feature_names), reverse=True):\n",
    "    output_select_percentile[f_name] = score\n",
    "\n",
    "print(output_select_percentile)\n",
    "\n",
    "\n"
   ]
  },
  {
   "cell_type": "code",
   "execution_count": 9,
   "metadata": {},
   "outputs": [],
   "source": [
    "forest = RandomForestClassifier(random_state=0)\n",
    "rf_best = forest.fit(X_train, y_train)"
   ]
  },
  {
   "cell_type": "code",
   "execution_count": 12,
   "metadata": {},
   "outputs": [],
   "source": [
    "other = {}\n",
    "for score, f_name in sorted(zip(rf_best.feature_importances_, feature_names), reverse=True):\n",
    "    other[f_name] = score\n",
    "\n"
   ]
  },
  {
   "cell_type": "code",
   "execution_count": 13,
   "metadata": {},
   "outputs": [
    {
     "data": {
      "text/plain": [
       "{' Rv3619  ': 0.050333491008164505,\n",
       " ' Rv1677 ': 0.045960161257904274,\n",
       " ' Rv2220 ': 0.0421126131900388,\n",
       " 'CFP10  ': 0.04042170076663907,\n",
       " ' Rv1009 ': 0.037050168802884996,\n",
       " ' Rv1980 ': 0.03633712077023219,\n",
       " ' Rv3841': 0.035510893077388084,\n",
       " ' Rv3881  ': 0.03457635688939512,\n",
       " ' Rv2032 ': 0.034562622104689134,\n",
       " ' Rv0934': 0.03391817034468528,\n",
       " 'Rv3875': 0.033576282194634606,\n",
       " ' Rv3507 ': 0.03337231701338082,\n",
       " ' Rv0831 ': 0.03240968041319463,\n",
       " '  Rv1926c ': 0.03215949409978943,\n",
       " ' Rv1860': 0.03208809720321936,\n",
       " 'Rv3418c ': 0.031769539341714115,\n",
       " ' Rv0054 ': 0.030218180871989048,\n",
       " ' Rv1566c ': 0.030199299099671843,\n",
       " ' Rv1984 ': 0.030177691456357895,\n",
       " 'Rv3874-Rv3875': 0.030149405765801208,\n",
       " ' Rv3873 ': 0.02937760434005102,\n",
       " ' Ag85b ': 0.029330448537368964,\n",
       " ' HN878  ': 0.029209114622513983,\n",
       " ' Rv1099 ': 0.028206411063614482,\n",
       " ' Rv2875 ': 0.02746306314249112,\n",
       " ' HSPX  ': 0.02737278690672673,\n",
       " ' CDC1551  ': 0.02557768678550411,\n",
       " ' H37Rv ': 0.025255369847796857,\n",
       " 'Rv3804c ': 0.024628263719469533,\n",
       " ' Rv2878c  ': 0.02392201233124112,\n",
       " 'Rv0129c ': 0.02275395303144769}"
      ]
     },
     "execution_count": 13,
     "metadata": {},
     "output_type": "execute_result"
    }
   ],
   "source": [
    "other"
   ]
  },
  {
   "cell_type": "code",
   "execution_count": 16,
   "metadata": {},
   "outputs": [
    {
     "data": {
      "text/plain": [
       "1.0"
      ]
     },
     "execution_count": 16,
     "metadata": {},
     "output_type": "execute_result"
    }
   ],
   "source": []
  },
  {
   "cell_type": "code",
   "execution_count": null,
   "metadata": {},
   "outputs": [],
   "source": []
  }
 ],
 "metadata": {
  "kernelspec": {
   "display_name": "Python 3",
   "language": "python",
   "name": "python3"
  },
  "language_info": {
   "codemirror_mode": {
    "name": "ipython",
    "version": 3
   },
   "file_extension": ".py",
   "mimetype": "text/x-python",
   "name": "python",
   "nbconvert_exporter": "python",
   "pygments_lexer": "ipython3",
   "version": "3.8.3"
  }
 },
 "nbformat": 4,
 "nbformat_minor": 4
}
