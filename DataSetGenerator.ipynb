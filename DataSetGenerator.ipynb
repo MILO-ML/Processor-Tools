{
 "cells": [
  {
   "cell_type": "code",
   "execution_count": 2,
   "metadata": {},
   "outputs": [],
   "source": [
    "import pandas as pd\n",
    "import numpy as np\n",
    "from sklearn.feature_selection import f_classif\n",
    "from sklearn.model_selection import train_test_split\n",
    "from sklearn.ensemble import RandomForestClassifier\n",
    "\n",
    "from sklearn.feature_selection import SelectPercentile\n",
    "\n",
    "from sklearn.datasets import load_digits"
   ]
  },
  {
   "cell_type": "code",
   "execution_count": 15,
   "metadata": {},
   "outputs": [
    {
     "name": "stdout",
     "output_type": "stream",
     "text": [
      "(1797, 30)\n"
     ]
    }
   ],
   "source": [
    "#Make CSV like data frame\n",
    "data = load_digits()\n",
    "df = pd.DataFrame(data['data'], columns=data['feature_names'])\n",
    "\n",
    "\n",
    "\n",
    "df['target'] = data['target']\n",
    "\n",
    "from numpy import random\n",
    "nums = random.choice([0, 1], size=df['target'].size, p=[.5, .5])\n",
    "\n",
    "df['target'] = nums\n",
    "\n",
    "f = df[df.columns[35:]]\n",
    "print(f.shape)\n",
    "f.to_csv('/Users/Brandon/Desktop/digits_30.csv', index=False)\n",
    "\n",
    "cols = {}\n",
    "for i in range(0,30):\n",
    "    cols[f.columns[i]] = 'cols' + str(i)\n",
    "\n",
    "f = f.rename(columns=cols)\n",
    "f.to_csv('/Users/Brandon/Desktop/digits_30_rn.csv', index=False)\n",
    "\n",
    "f.head(30).to_csv('/Users/Brandon/Desktop/digits_30_rn_head.csv', index=False)"
   ]
  },
  {
   "cell_type": "code",
   "execution_count": 41,
   "metadata": {},
   "outputs": [],
   "source": []
  },
  {
   "cell_type": "code",
   "execution_count": null,
   "metadata": {},
   "outputs": [],
   "source": []
  },
  {
   "cell_type": "code",
   "execution_count": null,
   "metadata": {},
   "outputs": [],
   "source": [
    "\n"
   ]
  },
  {
   "cell_type": "code",
   "execution_count": null,
   "metadata": {},
   "outputs": [],
   "source": [
    "\n"
   ]
  },
  {
   "cell_type": "code",
   "execution_count": null,
   "metadata": {},
   "outputs": [],
   "source": []
  },
  {
   "cell_type": "code",
   "execution_count": null,
   "metadata": {},
   "outputs": [],
   "source": []
  },
  {
   "cell_type": "code",
   "execution_count": null,
   "metadata": {},
   "outputs": [],
   "source": []
  }
 ],
 "metadata": {
  "kernelspec": {
   "display_name": "Python 3",
   "language": "python",
   "name": "python3"
  },
  "language_info": {
   "codemirror_mode": {
    "name": "ipython",
    "version": 3
   },
   "file_extension": ".py",
   "mimetype": "text/x-python",
   "name": "python",
   "nbconvert_exporter": "python",
   "pygments_lexer": "ipython3",
   "version": "3.8.3"
  }
 },
 "nbformat": 4,
 "nbformat_minor": 4
}
