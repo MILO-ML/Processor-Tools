{
 "cells": [
  {
   "cell_type": "code",
   "execution_count": 3,
   "metadata": {},
   "outputs": [],
   "source": [
    "from datetime import datetime\n",
    "import pandas as pd\n",
    "import numpy as np\n"
   ]
  },
  {
   "cell_type": "code",
   "execution_count": 6,
   "metadata": {},
   "outputs": [],
   "source": [
    "def time_study(rows, columns):\n",
    "    start = datetime.now()\n",
    "    df = pd.DataFrame(np.random.randint(0,100,size=(rows, columns)))\n",
    "    correlation_mat = df.corr()\n",
    "    end = datetime.now()\n",
    "    return (end - start).total_seconds()"
   ]
  },
  {
   "cell_type": "code",
   "execution_count": null,
   "metadata": {},
   "outputs": [],
   "source": [
    "study = [10,100,1000,10000]\n",
    "result = []\n",
    "for s in study:\n",
    "    result.append(time_study(s,s))"
   ]
  },
  {
   "cell_type": "code",
   "execution_count": 11,
   "metadata": {},
   "outputs": [
    {
     "data": {
      "text/plain": [
       "[0.000773, 0.000945, 0.001032, 0.000851, 0.00082, 0.002615, 6.476237]"
      ]
     },
     "execution_count": 11,
     "metadata": {},
     "output_type": "execute_result"
    }
   ],
   "source": [
    "result"
   ]
  },
  {
   "cell_type": "code",
   "execution_count": null,
   "metadata": {},
   "outputs": [],
   "source": [
    "pd.DataFrame([study,result]).transpose().set_index(0).plot(logx=False, logy=True)"
   ]
  },
  {
   "cell_type": "code",
   "execution_count": null,
   "metadata": {},
   "outputs": [],
   "source": [
    "study = [\n",
    "    {'rows': 10,'columns' 100},\n",
    "    {'rows': 10,'columns' 1000},\n",
    "    {'rows': 1000,'columns' 100},\n",
    "    {'rows': 1000,'columns' 1000},    \n",
    "]\n",
    "result = []\n",
    "for s in study:\n",
    "    result.append(time_study(s,s))"
   ]
  }
 ],
 "metadata": {
  "kernelspec": {
   "display_name": "Python 3",
   "language": "python",
   "name": "python3"
  },
  "language_info": {
   "codemirror_mode": {
    "name": "ipython",
    "version": 3
   },
   "file_extension": ".py",
   "mimetype": "text/x-python",
   "name": "python",
   "nbconvert_exporter": "python",
   "pygments_lexer": "ipython3",
   "version": "3.8.3"
  }
 },
 "nbformat": 4,
 "nbformat_minor": 4
}
