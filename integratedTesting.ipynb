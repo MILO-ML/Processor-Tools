{
 "cells": [
  {
   "cell_type": "code",
   "execution_count": null,
   "id": "ea68bf6b",
   "metadata": {},
   "outputs": [],
   "source": []
  },
  {
   "cell_type": "code",
   "execution_count": 1,
   "id": "12eacdc2-8a65-40ad-b96f-a98c8c4a6174",
   "metadata": {},
   "outputs": [
    {
     "ename": "ModuleNotFoundError",
     "evalue": "No module named 'pandas'",
     "output_type": "error",
     "traceback": [
      "\u001b[0;31m---------------------------------------------------------------------------\u001b[0m",
      "\u001b[0;31mModuleNotFoundError\u001b[0m                       Traceback (most recent call last)",
      "Input \u001b[0;32mIn [1]\u001b[0m, in \u001b[0;36m<cell line: 1>\u001b[0;34m()\u001b[0m\n\u001b[0;32m----> 1\u001b[0m \u001b[38;5;28;01mimport\u001b[39;00m \u001b[38;5;21;01mpandas\u001b[39;00m \u001b[38;5;28;01mas\u001b[39;00m \u001b[38;5;21;01mpd\u001b[39;00m\n\u001b[1;32m      2\u001b[0m \u001b[38;5;28;01mimport\u001b[39;00m \u001b[38;5;21;01mnumpy\u001b[39;00m \u001b[38;5;28;01mas\u001b[39;00m \u001b[38;5;21;01mnp\u001b[39;00m\n\u001b[1;32m      3\u001b[0m \u001b[38;5;28;01mimport\u001b[39;00m \u001b[38;5;21;01mos\u001b[39;00m\n",
      "\u001b[0;31mModuleNotFoundError\u001b[0m: No module named 'pandas'"
     ]
    }
   ],
   "source": [
    "import pandas as pd\n",
    "import numpy as np\n",
    "import os\n",
    "import simplejson\n"
   ]
  },
  {
   "cell_type": "code",
   "execution_count": 2,
   "id": "76eec8e0",
   "metadata": {},
   "outputs": [],
   "source": [
    "def load_file(path):\n",
    "    file_path = path\n",
    "    df = pd.read_csv(file_path)\n",
    "    #Automatic fixes\n",
    "    df = df.replace(r'^\\s*$', np.nan, regex=True) #replaces empty strings spacess with NaN\n",
    "    return df\n"
   ]
  },
  {
   "cell_type": "code",
   "execution_count": 8,
   "id": "da6a9c47",
   "metadata": {},
   "outputs": [],
   "source": [
    "def file_params(df):\n",
    "    params = {}\n",
    "    #size\n",
    "    params['size'] = {}\n",
    "    params['size']['rows'] = int(df.shape[0])\n",
    "    params['size']['cols'] = int(df.shape[1])\n",
    "\n",
    "    #missing values\n",
    "    params['missing'] = {}\n",
    "    ##rows\n",
    "    params['missing']['rows'] = int(df[df.isna().any(axis=1)].shape[0])\n",
    "    params['missing']['rowsPercent'] = float(round(params['missing']['rows'] / params['size']['rows'], 7) * 100)\n",
    "    ##cells\n",
    "    params['missing']['cells'] = int(df.isna().sum().sum())\n",
    "    params['missing']['cellsPercent'] = float(round(params['missing']['cells'] / (params['size']['rows'] * params['size']['cols']), 7) * 100)\n",
    "    ##columns\n",
    "    missingColumn = df.isna().sum()\n",
    "    params['missing']['cols'] = missingColumn[missingColumn != 0].to_dict()\n",
    "    ###percent of total values in colums\n",
    "    nanByColumnPercent = round(df.isna().sum() / df.count().sum() * 100, 4)\n",
    "    params['missing']['colsPercent'] = nanByColumnPercent[nanByColumnPercent !=0].to_dict()\n",
    "    ###percent ot total missing values\n",
    "    nanColumnContributionPercent = round(df.isna().sum() / df.isna().sum().sum() * 100, 2)\n",
    "    params['missing']['colsPercentContribution'] = nanColumnContributionPercent[nanColumnContributionPercent !=0].to_dict()\n",
    "\n",
    "    #names\n",
    "    params['names'] = {}\n",
    "    params['names']['cols'] = list(df.columns.values)\n",
    "    params['names']['colsReverse'] = list(df.columns.values)\n",
    "    params['names']['colsReverse'].reverse()\n",
    "\n",
    "    #describe\n",
    "    params['describe'] = df.describe().to_dict()\n",
    "\n",
    "    return params"
   ]
  },
  {
   "cell_type": "code",
   "execution_count": 77,
   "id": "1aebd92c",
   "metadata": {},
   "outputs": [
    {
     "data": {
      "text/plain": [
       "{0: {'counts': 246, 'percentage': 50.409836065573764, 'nan_counts': 0},\n",
       " 1: {'counts': 242, 'percentage': 49.59016393442623, 'nan_counts': 17}}"
      ]
     },
     "execution_count": 77,
     "metadata": {},
     "output_type": "execute_result"
    }
   ],
   "source": [
    "\n",
    "target = 'NFLness'\n",
    "\n",
    "df_sub1 = load_file('/Users/brandon/Desktop/NFL-Gen-Test_missing.csv')\n",
    "df_sub1['storage_id'] = df_si\n",
    "df_sub2 = load_file('/Users/brandon/Desktop/NFL-Training_missing.csv')\n",
    "df_sub2['storage_id'] = df2_si\n",
    "\n",
    "df = pd.concat([df_sub1, df_sub2])\n",
    "\n",
    "\n",
    "cummulative_df = pd.DataFrame(df[target].value_counts())\n",
    "cummulative_df.rename(columns={target: 'counts'}, inplace=True)\n",
    "cummulative_df['percentage'] = cummulative_df['counts'] / cummulative_df['counts'].sum() * 100\n",
    "\n",
    "nan_counts = df[df.isna().any(axis=1)][target].value_counts()\n",
    "#ensure all values carried to front end\n",
    "if not 1 in nan_counts:\n",
    "    nan_counts[1] = 0\n",
    "if not 0 in nan_counts:\n",
    "    nan_counts[0] = 0\n",
    "\n",
    "\n",
    "cummulative_df['nan_counts'] = nan_counts\n",
    "\n",
    "majority_class = df[target].value_counts().idxmax()\n",
    "minority_class = df[target].value_counts().idxmin()\n",
    "\n",
    "cummulative_df.to_dict(orient='index')\n",
    "\n",
    "json = {\n",
    "    'class': {\n",
    "        'major': majority_class,\n",
    "        'minori': minority_class\n",
    "    },\n",
    "    'describe': cummulative_df.to_dict(orient='index')\n",
    "}\n",
    "\n",
    "\n",
    "\n",
    "\n",
    "\n",
    "\n"
   ]
  },
  {
   "cell_type": "code",
   "execution_count": 32,
   "id": "9be39a22-d2b4-4dfc-b7de-9b243d3fd2ca",
   "metadata": {},
   "outputs": [
    {
     "data": {
      "text/plain": [
       "1"
      ]
     },
     "execution_count": 32,
     "metadata": {},
     "output_type": "execute_result"
    }
   ],
   "source": [
    "\n",
    "\n",
    "test = pd.Series([1,1,1])\n",
    "\n",
    "test.value_counts().idxmax()\n"
   ]
  },
  {
   "cell_type": "code",
   "execution_count": null,
   "id": "f30b1a17",
   "metadata": {},
   "outputs": [],
   "source": [
    "\n"
   ]
  },
  {
   "cell_type": "code",
   "execution_count": null,
   "id": "bbb8a32d",
   "metadata": {},
   "outputs": [],
   "source": []
  },
  {
   "cell_type": "code",
   "execution_count": null,
   "id": "6235c221",
   "metadata": {},
   "outputs": [],
   "source": []
  },
  {
   "cell_type": "code",
   "execution_count": null,
   "id": "1fb27805",
   "metadata": {},
   "outputs": [],
   "source": []
  },
  {
   "cell_type": "code",
   "execution_count": null,
   "id": "6a671993",
   "metadata": {},
   "outputs": [],
   "source": []
  },
  {
   "cell_type": "code",
   "execution_count": null,
   "id": "1cb4614f",
   "metadata": {},
   "outputs": [],
   "source": []
  }
 ],
 "metadata": {
  "kernelspec": {
   "display_name": "Python 3 (ipykernel)",
   "language": "python",
   "name": "python3"
  },
  "language_info": {
   "codemirror_mode": {
    "name": "ipython",
    "version": 3
   },
   "file_extension": ".py",
   "mimetype": "text/x-python",
   "name": "python",
   "nbconvert_exporter": "python",
   "pygments_lexer": "ipython3",
   "version": "3.10.6"
  },
  "vscode": {
   "interpreter": {
    "hash": "f214302c4be4af053e1060f64f7316a672414588e1d594bb2a86016ac778f53c"
   }
  }
 },
 "nbformat": 4,
 "nbformat_minor": 5
}
