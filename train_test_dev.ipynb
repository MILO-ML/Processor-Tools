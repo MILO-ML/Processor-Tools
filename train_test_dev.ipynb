{
 "cells": [
  {
   "cell_type": "code",
   "execution_count": 16,
   "metadata": {},
   "outputs": [],
   "source": [
    "import pandas as pd\n",
    "import numpy as np\n",
    "import random\n",
    "from flask import jsonify"
   ]
  },
  {
   "cell_type": "code",
   "execution_count": 4,
   "metadata": {},
   "outputs": [],
   "source": [
    "#build a data set\n",
    "\n",
    "df = pd.DataFrame(np.random.randint(0,100,size=(400, 6)), columns=list('ABCDEF'))\n",
    "\n",
    "rand = []\n",
    "x = 0\n",
    "while x < 400:\n",
    "    rand.append(round(random.uniform(0, .7)))\n",
    "    x += 1\n",
    "\n",
    "df['target'] = rand"
   ]
  },
  {
   "cell_type": "code",
   "execution_count": 5,
   "metadata": {},
   "outputs": [],
   "source": [
    "y_column = 'target'"
   ]
  },
  {
   "cell_type": "code",
   "execution_count": 18,
   "metadata": {},
   "outputs": [
    {
     "name": "stdout",
     "output_type": "stream",
     "text": [
      "{'class_counts': '{\"0\":279,\"1\":121}', 'total_count': 400, 'prevalence': 0.3025, 'minority_class': 1, 'training_class_sample_size': 60}\n"
     ]
    }
   ],
   "source": [
    "#find minority class\n",
    "\n",
    "class_counts = df[y_column].value_counts()\n",
    "total_count = class_counts.sum()\n",
    "prevalence = class_counts[1] / total_count\n",
    "\n",
    "minority_class = 1\n",
    "\n",
    "if (class_counts[0] < class_counts[1]):\n",
    "    minority_class = 0\n",
    "\n",
    "training_class_sample_size = 0    \n",
    "\n",
    "minority_half = int(round(class_counts[minority_class]/2))\n",
    "\n",
    "if minority_half < 50:\n",
    "    training_class_sample_size = 50\n",
    "else:\n",
    "    training_class_sample_size = minority_half   \n",
    "\n",
    "result = {\n",
    "    'class_counts': class_counts.to_json(),\n",
    "    'total_count': int(total_count),\n",
    "    'prevalence': prevalence,\n",
    "    'minority_class': int(minority_class),\n",
    "    'training_class_sample_size': int(training_class_sample_size)\n",
    "}\n",
    "print(result)\n"
   ]
  },
  {
   "cell_type": "code",
   "execution_count": null,
   "metadata": {},
   "outputs": [],
   "source": []
  },
  {
   "cell_type": "code",
   "execution_count": 129,
   "metadata": {},
   "outputs": [
    {
     "data": {
      "text/plain": [
       "1    56\n",
       "0    56\n",
       "Name: target, dtype: int64"
      ]
     },
     "execution_count": 129,
     "metadata": {},
     "output_type": "execute_result"
    }
   ],
   "source": [
    "train_0 = df[df[y_column] == 0].sample(training_class_sample_size)\n",
    "train_1 = df[df[y_column] == 1].sample(training_class_sample_size)\n",
    "\n",
    "train_combine = pd.concat([train_0,train_1])\n",
    "train_combine['target'].value_counts()"
   ]
  },
  {
   "cell_type": "code",
   "execution_count": 128,
   "metadata": {},
   "outputs": [],
   "source": [
    "test_filtered = df.drop(train_0.index).drop(train_1.index)[y_column]"
   ]
  },
  {
   "cell_type": "code",
   "execution_count": 90,
   "metadata": {},
   "outputs": [
    {
     "data": {
      "text/plain": [
       "1    54\n",
       "0    54\n",
       "Name: target, dtype: int64"
      ]
     },
     "execution_count": 90,
     "metadata": {},
     "output_type": "execute_result"
    }
   ],
   "source": []
  },
  {
   "cell_type": "code",
   "execution_count": 131,
   "metadata": {},
   "outputs": [],
   "source": [
    "total_test = test_filtered.size\n",
    "counts_test = test_filtered.value_counts()\n",
    "total_hold_prevalence = int(round(counts_test[1] / prevalence))\n",
    "\n",
    "difference = total_test - total_hold_prevalence\n",
    "\n",
    "test_combine = test_filtered.copy()\n",
    "\n",
    "if minority_class == 1:\n",
    "    reduction = test_filtered[test_filtered == 0].sample(difference)\n",
    "    test_combine = test_combine.drop(reduction.index)"
   ]
  },
  {
   "cell_type": "code",
   "execution_count": 121,
   "metadata": {},
   "outputs": [
    {
     "data": {
      "text/plain": [
       "0.2722772277227723"
      ]
     },
     "execution_count": 121,
     "metadata": {},
     "output_type": "execute_result"
    }
   ],
   "source": []
  },
  {
   "cell_type": "code",
   "execution_count": 122,
   "metadata": {},
   "outputs": [
    {
     "data": {
      "text/plain": [
       "0.2725"
      ]
     },
     "execution_count": 122,
     "metadata": {},
     "output_type": "execute_result"
    }
   ],
   "source": [
    "prevalence"
   ]
  },
  {
   "cell_type": "code",
   "execution_count": null,
   "metadata": {},
   "outputs": [],
   "source": []
  }
 ],
 "metadata": {
  "kernelspec": {
   "display_name": "Python 3",
   "language": "python",
   "name": "python3"
  },
  "language_info": {
   "codemirror_mode": {
    "name": "ipython",
    "version": 3
   },
   "file_extension": ".py",
   "mimetype": "text/x-python",
   "name": "python",
   "nbconvert_exporter": "python",
   "pygments_lexer": "ipython3",
   "version": "3.8.3"
  }
 },
 "nbformat": 4,
 "nbformat_minor": 4
}
